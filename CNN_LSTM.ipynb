{
  "cells": [
    {
      "cell_type": "markdown",
      "metadata": {
        "id": "view-in-github",
        "colab_type": "text"
      },
      "source": [
        "<a href=\"https://colab.research.google.com/github/ben-velastegui/dxc-ai-assessment/blob/main/CNN_LSTM.ipynb\" target=\"_parent\"><img src=\"https://colab.research.google.com/assets/colab-badge.svg\" alt=\"Open In Colab\"/></a>"
      ]
    },
    {
      "cell_type": "code",
      "execution_count": null,
      "metadata": {
        "id": "CCdaGqQBfQUd"
      },
      "outputs": [],
      "source": [
        "import numpy as np\n",
        "import pandas as pd\n",
        "import seaborn as sns\n",
        "import matplotlib.pyplot as plt\n",
        "\n",
        "from sklearn.model_selection import train_test_split\n",
        "from sklearn.preprocessing import StandardScaler, OneHotEncoder, LabelEncoder\n",
        "from sklearn.compose import ColumnTransformer\n",
        "from sklearn.impute import SimpleImputer\n",
        "from sklearn.utils.class_weight import compute_class_weight\n",
        "from sklearn.metrics import classification_report, confusion_matrix, accuracy_score\n",
        "\n",
        "from imblearn.over_sampling import RandomOverSampler, SMOTE\n",
        "\n",
        "import tensorflow as tf\n",
        "from tensorflow.keras.models import Model, Sequential\n",
        "from tensorflow.keras.layers import Input, Conv1D, Dense, Flatten, Dropout, BatchNormalization\n",
        "from tensorflow.keras.optimizers import Adam\n",
        "from tensorflow.keras.utils import to_categorical\n"
      ]
    },
    {
      "cell_type": "code",
      "execution_count": null,
      "metadata": {
        "colab": {
          "base_uri": "https://localhost:8080/"
        },
        "id": "EPSzJPSydq15",
        "outputId": "7f7d4313-4929-47a1-e684-a98a21693fb6"
      },
      "outputs": [
        {
          "output_type": "stream",
          "name": "stdout",
          "text": [
            "Requirement already satisfied: shap in /usr/local/lib/python3.12/dist-packages (0.48.0)\n",
            "Requirement already satisfied: numpy in /usr/local/lib/python3.12/dist-packages (from shap) (2.0.2)\n",
            "Requirement already satisfied: scipy in /usr/local/lib/python3.12/dist-packages (from shap) (1.16.1)\n",
            "Requirement already satisfied: scikit-learn in /usr/local/lib/python3.12/dist-packages (from shap) (1.6.1)\n",
            "Requirement already satisfied: pandas in /usr/local/lib/python3.12/dist-packages (from shap) (2.2.2)\n",
            "Requirement already satisfied: tqdm>=4.27.0 in /usr/local/lib/python3.12/dist-packages (from shap) (4.67.1)\n",
            "Requirement already satisfied: packaging>20.9 in /usr/local/lib/python3.12/dist-packages (from shap) (25.0)\n",
            "Requirement already satisfied: slicer==0.0.8 in /usr/local/lib/python3.12/dist-packages (from shap) (0.0.8)\n",
            "Requirement already satisfied: numba>=0.54 in /usr/local/lib/python3.12/dist-packages (from shap) (0.60.0)\n",
            "Requirement already satisfied: cloudpickle in /usr/local/lib/python3.12/dist-packages (from shap) (3.1.1)\n",
            "Requirement already satisfied: typing-extensions in /usr/local/lib/python3.12/dist-packages (from shap) (4.15.0)\n",
            "Requirement already satisfied: llvmlite<0.44,>=0.43.0dev0 in /usr/local/lib/python3.12/dist-packages (from numba>=0.54->shap) (0.43.0)\n",
            "Requirement already satisfied: python-dateutil>=2.8.2 in /usr/local/lib/python3.12/dist-packages (from pandas->shap) (2.9.0.post0)\n",
            "Requirement already satisfied: pytz>=2020.1 in /usr/local/lib/python3.12/dist-packages (from pandas->shap) (2025.2)\n",
            "Requirement already satisfied: tzdata>=2022.7 in /usr/local/lib/python3.12/dist-packages (from pandas->shap) (2025.2)\n",
            "Requirement already satisfied: joblib>=1.2.0 in /usr/local/lib/python3.12/dist-packages (from scikit-learn->shap) (1.5.2)\n",
            "Requirement already satisfied: threadpoolctl>=3.1.0 in /usr/local/lib/python3.12/dist-packages (from scikit-learn->shap) (3.6.0)\n",
            "Requirement already satisfied: six>=1.5 in /usr/local/lib/python3.12/dist-packages (from python-dateutil>=2.8.2->pandas->shap) (1.17.0)\n"
          ]
        }
      ],
      "source": [
        "# Core libraries\n",
        "\n",
        "\n",
        "# Preprocessing\n",
        "from sklearn.preprocessing import StandardScaler, OneHotEncoder, LabelEncoder\n",
        "from sklearn.model_selection import train_test_split\n",
        "\n",
        "# Deep learning\n",
        "import tensorflow as tf\n",
        "from tensorflow.keras.models import Model\n",
        "from tensorflow.keras.layers import Input, Conv1D, Dense, Flatten, Dropout, BatchNormalization\n",
        "from tensorflow.keras.utils import to_categorical\n",
        "\n",
        "# Evaluation\n",
        "from sklearn.metrics import classification_report, confusion_matrix\n",
        "import seaborn as sns\n",
        "import matplotlib.pyplot as plt\n",
        "\n",
        "# Feature importance\n",
        "!pip install shap\n",
        "import shap\n"
      ]
    },
    {
      "cell_type": "code",
      "execution_count": null,
      "metadata": {
        "id": "d_tZr3bceL1a"
      },
      "outputs": [],
      "source": [
        "df = pd.read_csv(\"/content/full_data_long.csv\")\n"
      ]
    },
    {
      "cell_type": "code",
      "execution_count": null,
      "metadata": {
        "id": "2GHIVW2YeWt-"
      },
      "outputs": [],
      "source": [
        "numeric_features = [\n",
        "    \"total_logs\", \"error_logs\", \"warning_logs\", \"info_logs\",\n",
        "    \"cpu_user_mean\", \"cpu_user_max\",\n",
        "    \"mem_used_mean\", \"mem_used_max\",\n",
        "    \"load1_mean\", \"load5_mean\", \"load15_mean\",\n",
        "    \"total_traces\", \"missing_data\"\n",
        "]\n",
        "\n",
        "\n",
        "categorical_features = [\"Hostname\", \"program\", \"pid\", \"user_id\"]\n"
      ]
    },
    {
      "cell_type": "code",
      "execution_count": null,
      "metadata": {
        "id": "_29mHiofe1XM"
      },
      "outputs": [],
      "source": [
        "target = \"operation\"\n"
      ]
    },
    {
      "cell_type": "code",
      "execution_count": null,
      "metadata": {
        "id": "55MspEJ0e3eC"
      },
      "outputs": [],
      "source": [
        "time_column = \"bin_time\"\n"
      ]
    },
    {
      "cell_type": "code",
      "execution_count": null,
      "metadata": {
        "id": "AXcl4foXe_Am"
      },
      "outputs": [],
      "source": [
        "scaler = StandardScaler()\n",
        "df[numeric_features] = scaler.fit_transform(df[numeric_features])\n"
      ]
    },
    {
      "cell_type": "code",
      "execution_count": null,
      "metadata": {
        "id": "zUnH72L2fB11"
      },
      "outputs": [],
      "source": [
        "\n",
        "\n",
        "# Corrected for newer scikit-learn\n",
        "ohe = OneHotEncoder(sparse_output=False)\n",
        "cat_encoded = ohe.fit_transform(df[categorical_features])\n",
        "\n",
        "# Combine numeric + categorical features\n",
        "df_encoded = pd.concat([\n",
        "    df[numeric_features].reset_index(drop=True),\n",
        "    pd.DataFrame(cat_encoded, columns=ohe.get_feature_names_out(categorical_features))\n",
        "], axis=1)\n"
      ]
    },
    {
      "cell_type": "code",
      "execution_count": null,
      "metadata": {
        "id": "-CAEZKqTfJr6"
      },
      "outputs": [],
      "source": [
        "label_encoder = LabelEncoder()\n",
        "df[\"operation_label\"] = label_encoder.fit_transform(df[target])\n",
        "y = to_categorical(df[\"operation_label\"])\n"
      ]
    },
    {
      "cell_type": "code",
      "execution_count": null,
      "metadata": {
        "colab": {
          "base_uri": "https://localhost:8080/"
        },
        "id": "QWiFkw-0jesU",
        "outputId": "40880568-509b-47f7-c848-043d59cb7105"
      },
      "outputs": [
        {
          "output_type": "stream",
          "name": "stdout",
          "text": [
            "0   2019-11-19 17:38:00\n",
            "1   2019-11-19 17:38:00\n",
            "2   2019-11-19 17:38:00\n",
            "3   2019-11-19 17:38:00\n",
            "4   2019-11-19 17:38:00\n",
            "Name: bin_time, dtype: datetime64[ns]\n"
          ]
        },
        {
          "output_type": "stream",
          "name": "stderr",
          "text": [
            "/tmp/ipython-input-32759934.py:2: UserWarning: The argument 'infer_datetime_format' is deprecated and will be removed in a future version. A strict version of it is now the default, see https://pandas.pydata.org/pdeps/0004-consistent-to-datetime-parsing.html. You can safely remove this argument.\n",
            "  df[\"bin_time\"] = pd.to_datetime(df[\"bin_time\"], errors=\"coerce\", infer_datetime_format=True)\n"
          ]
        }
      ],
      "source": [
        "# Convert bin_time to datetime, filling missing time as 00:00:00\n",
        "df[\"bin_time\"] = pd.to_datetime(df[\"bin_time\"], errors=\"coerce\", infer_datetime_format=True)\n",
        "\n",
        "# For entries that were just dates, pandas will automatically set time to 00:00:00\n",
        "# Verify\n",
        "print(df[\"bin_time\"].head())\n",
        "\n",
        "# Sort by Hostname and bin_time\n",
        "df = df.sort_values(by=[\"Hostname\", \"bin_time\"]).reset_index(drop=True)\n"
      ]
    },
    {
      "cell_type": "code",
      "execution_count": null,
      "metadata": {
        "id": "TLA-ZnMHkqL7",
        "colab": {
          "base_uri": "https://localhost:8080/"
        },
        "outputId": "37017be0-31dd-46da-b57c-d982644a1991"
      },
      "outputs": [
        {
          "output_type": "stream",
          "name": "stdout",
          "text": [
            "Sequences shape: (54783, 10, 189)\n",
            "Labels shape: (54783, 4)\n"
          ]
        }
      ],
      "source": [
        "sequence_length = 10  # number of time steps per sequence\n",
        "\n",
        "X_sequences = []\n",
        "y_sequences = []\n",
        "\n",
        "for host in df[\"Hostname\"].unique():\n",
        "    host_data = df[df[\"Hostname\"] == host]\n",
        "    host_features = df_encoded.loc[host_data.index].values\n",
        "    host_labels = df.loc[host_data.index, \"operation_label\"].values\n",
        "\n",
        "    for i in range(len(host_features) - sequence_length + 1):\n",
        "        X_sequences.append(host_features[i:i+sequence_length])\n",
        "        y_sequences.append(host_labels[i+sequence_length-1])  # label at last timestep\n",
        "\n",
        "X_sequences = np.array(X_sequences)\n",
        "y_sequences = np.array(y_sequences)\n",
        "y_sequences_cat = to_categorical(y_sequences)\n",
        "\n",
        "print(\"Sequences shape:\", X_sequences.shape)\n",
        "print(\"Labels shape:\", y_sequences_cat.shape)\n"
      ]
    },
    {
      "cell_type": "code",
      "execution_count": null,
      "metadata": {
        "colab": {
          "base_uri": "https://localhost:8080/"
        },
        "id": "S2qIyR0OksKi",
        "outputId": "5ba4a4f8-8d06-4515-cf0e-5e1d231f17bb"
      },
      "outputs": [
        {
          "output_type": "stream",
          "name": "stdout",
          "text": [
            "Train shape: (43826, 10, 189) (43826, 4)\n",
            "Test shape: (10957, 10, 189) (10957, 4)\n"
          ]
        }
      ],
      "source": [
        "\n",
        "\n",
        "X_train, X_test, y_train, y_test = train_test_split(\n",
        "    X_sequences, y_sequences_cat, test_size=0.2, random_state=42, shuffle=True\n",
        ")\n",
        "\n",
        "print(\"Train shape:\", X_train.shape, y_train.shape)\n",
        "print(\"Test shape:\", X_test.shape, y_test.shape)\n"
      ]
    },
    {
      "cell_type": "code",
      "execution_count": null,
      "metadata": {
        "colab": {
          "base_uri": "https://localhost:8080/",
          "height": 449
        },
        "id": "4-c8ymgMkupp",
        "outputId": "aae5250d-4198-4b2a-f5d6-72a27375814b"
      },
      "outputs": [
        {
          "output_type": "display_data",
          "data": {
            "text/plain": [
              "\u001b[1mModel: \"functional\"\u001b[0m\n"
            ],
            "text/html": [
              "<pre style=\"white-space:pre;overflow-x:auto;line-height:normal;font-family:Menlo,'DejaVu Sans Mono',consolas,'Courier New',monospace\"><span style=\"font-weight: bold\">Model: \"functional\"</span>\n",
              "</pre>\n"
            ]
          },
          "metadata": {}
        },
        {
          "output_type": "display_data",
          "data": {
            "text/plain": [
              "┏━━━━━━━━━━━━━━━━━━━━━━━━━━━━━━━━━┳━━━━━━━━━━━━━━━━━━━━━━━━┳━━━━━━━━━━━━━━━┓\n",
              "┃\u001b[1m \u001b[0m\u001b[1mLayer (type)                   \u001b[0m\u001b[1m \u001b[0m┃\u001b[1m \u001b[0m\u001b[1mOutput Shape          \u001b[0m\u001b[1m \u001b[0m┃\u001b[1m \u001b[0m\u001b[1m      Param #\u001b[0m\u001b[1m \u001b[0m┃\n",
              "┡━━━━━━━━━━━━━━━━━━━━━━━━━━━━━━━━━╇━━━━━━━━━━━━━━━━━━━━━━━━╇━━━━━━━━━━━━━━━┩\n",
              "│ input_layer (\u001b[38;5;33mInputLayer\u001b[0m)        │ (\u001b[38;5;45mNone\u001b[0m, \u001b[38;5;34m10\u001b[0m, \u001b[38;5;34m189\u001b[0m)        │             \u001b[38;5;34m0\u001b[0m │\n",
              "├─────────────────────────────────┼────────────────────────┼───────────────┤\n",
              "│ conv1d (\u001b[38;5;33mConv1D\u001b[0m)                 │ (\u001b[38;5;45mNone\u001b[0m, \u001b[38;5;34m10\u001b[0m, \u001b[38;5;34m64\u001b[0m)         │        \u001b[38;5;34m36,352\u001b[0m │\n",
              "├─────────────────────────────────┼────────────────────────┼───────────────┤\n",
              "│ batch_normalization             │ (\u001b[38;5;45mNone\u001b[0m, \u001b[38;5;34m10\u001b[0m, \u001b[38;5;34m64\u001b[0m)         │           \u001b[38;5;34m256\u001b[0m │\n",
              "│ (\u001b[38;5;33mBatchNormalization\u001b[0m)            │                        │               │\n",
              "├─────────────────────────────────┼────────────────────────┼───────────────┤\n",
              "│ conv1d_1 (\u001b[38;5;33mConv1D\u001b[0m)               │ (\u001b[38;5;45mNone\u001b[0m, \u001b[38;5;34m10\u001b[0m, \u001b[38;5;34m32\u001b[0m)         │         \u001b[38;5;34m6,176\u001b[0m │\n",
              "├─────────────────────────────────┼────────────────────────┼───────────────┤\n",
              "│ batch_normalization_1           │ (\u001b[38;5;45mNone\u001b[0m, \u001b[38;5;34m10\u001b[0m, \u001b[38;5;34m32\u001b[0m)         │           \u001b[38;5;34m128\u001b[0m │\n",
              "│ (\u001b[38;5;33mBatchNormalization\u001b[0m)            │                        │               │\n",
              "├─────────────────────────────────┼────────────────────────┼───────────────┤\n",
              "│ flatten (\u001b[38;5;33mFlatten\u001b[0m)               │ (\u001b[38;5;45mNone\u001b[0m, \u001b[38;5;34m320\u001b[0m)            │             \u001b[38;5;34m0\u001b[0m │\n",
              "├─────────────────────────────────┼────────────────────────┼───────────────┤\n",
              "│ dense (\u001b[38;5;33mDense\u001b[0m)                   │ (\u001b[38;5;45mNone\u001b[0m, \u001b[38;5;34m64\u001b[0m)             │        \u001b[38;5;34m20,544\u001b[0m │\n",
              "├─────────────────────────────────┼────────────────────────┼───────────────┤\n",
              "│ dropout (\u001b[38;5;33mDropout\u001b[0m)               │ (\u001b[38;5;45mNone\u001b[0m, \u001b[38;5;34m64\u001b[0m)             │             \u001b[38;5;34m0\u001b[0m │\n",
              "├─────────────────────────────────┼────────────────────────┼───────────────┤\n",
              "│ dense_1 (\u001b[38;5;33mDense\u001b[0m)                 │ (\u001b[38;5;45mNone\u001b[0m, \u001b[38;5;34m4\u001b[0m)              │           \u001b[38;5;34m260\u001b[0m │\n",
              "└─────────────────────────────────┴────────────────────────┴───────────────┘\n"
            ],
            "text/html": [
              "<pre style=\"white-space:pre;overflow-x:auto;line-height:normal;font-family:Menlo,'DejaVu Sans Mono',consolas,'Courier New',monospace\">┏━━━━━━━━━━━━━━━━━━━━━━━━━━━━━━━━━┳━━━━━━━━━━━━━━━━━━━━━━━━┳━━━━━━━━━━━━━━━┓\n",
              "┃<span style=\"font-weight: bold\"> Layer (type)                    </span>┃<span style=\"font-weight: bold\"> Output Shape           </span>┃<span style=\"font-weight: bold\">       Param # </span>┃\n",
              "┡━━━━━━━━━━━━━━━━━━━━━━━━━━━━━━━━━╇━━━━━━━━━━━━━━━━━━━━━━━━╇━━━━━━━━━━━━━━━┩\n",
              "│ input_layer (<span style=\"color: #0087ff; text-decoration-color: #0087ff\">InputLayer</span>)        │ (<span style=\"color: #00d7ff; text-decoration-color: #00d7ff\">None</span>, <span style=\"color: #00af00; text-decoration-color: #00af00\">10</span>, <span style=\"color: #00af00; text-decoration-color: #00af00\">189</span>)        │             <span style=\"color: #00af00; text-decoration-color: #00af00\">0</span> │\n",
              "├─────────────────────────────────┼────────────────────────┼───────────────┤\n",
              "│ conv1d (<span style=\"color: #0087ff; text-decoration-color: #0087ff\">Conv1D</span>)                 │ (<span style=\"color: #00d7ff; text-decoration-color: #00d7ff\">None</span>, <span style=\"color: #00af00; text-decoration-color: #00af00\">10</span>, <span style=\"color: #00af00; text-decoration-color: #00af00\">64</span>)         │        <span style=\"color: #00af00; text-decoration-color: #00af00\">36,352</span> │\n",
              "├─────────────────────────────────┼────────────────────────┼───────────────┤\n",
              "│ batch_normalization             │ (<span style=\"color: #00d7ff; text-decoration-color: #00d7ff\">None</span>, <span style=\"color: #00af00; text-decoration-color: #00af00\">10</span>, <span style=\"color: #00af00; text-decoration-color: #00af00\">64</span>)         │           <span style=\"color: #00af00; text-decoration-color: #00af00\">256</span> │\n",
              "│ (<span style=\"color: #0087ff; text-decoration-color: #0087ff\">BatchNormalization</span>)            │                        │               │\n",
              "├─────────────────────────────────┼────────────────────────┼───────────────┤\n",
              "│ conv1d_1 (<span style=\"color: #0087ff; text-decoration-color: #0087ff\">Conv1D</span>)               │ (<span style=\"color: #00d7ff; text-decoration-color: #00d7ff\">None</span>, <span style=\"color: #00af00; text-decoration-color: #00af00\">10</span>, <span style=\"color: #00af00; text-decoration-color: #00af00\">32</span>)         │         <span style=\"color: #00af00; text-decoration-color: #00af00\">6,176</span> │\n",
              "├─────────────────────────────────┼────────────────────────┼───────────────┤\n",
              "│ batch_normalization_1           │ (<span style=\"color: #00d7ff; text-decoration-color: #00d7ff\">None</span>, <span style=\"color: #00af00; text-decoration-color: #00af00\">10</span>, <span style=\"color: #00af00; text-decoration-color: #00af00\">32</span>)         │           <span style=\"color: #00af00; text-decoration-color: #00af00\">128</span> │\n",
              "│ (<span style=\"color: #0087ff; text-decoration-color: #0087ff\">BatchNormalization</span>)            │                        │               │\n",
              "├─────────────────────────────────┼────────────────────────┼───────────────┤\n",
              "│ flatten (<span style=\"color: #0087ff; text-decoration-color: #0087ff\">Flatten</span>)               │ (<span style=\"color: #00d7ff; text-decoration-color: #00d7ff\">None</span>, <span style=\"color: #00af00; text-decoration-color: #00af00\">320</span>)            │             <span style=\"color: #00af00; text-decoration-color: #00af00\">0</span> │\n",
              "├─────────────────────────────────┼────────────────────────┼───────────────┤\n",
              "│ dense (<span style=\"color: #0087ff; text-decoration-color: #0087ff\">Dense</span>)                   │ (<span style=\"color: #00d7ff; text-decoration-color: #00d7ff\">None</span>, <span style=\"color: #00af00; text-decoration-color: #00af00\">64</span>)             │        <span style=\"color: #00af00; text-decoration-color: #00af00\">20,544</span> │\n",
              "├─────────────────────────────────┼────────────────────────┼───────────────┤\n",
              "│ dropout (<span style=\"color: #0087ff; text-decoration-color: #0087ff\">Dropout</span>)               │ (<span style=\"color: #00d7ff; text-decoration-color: #00d7ff\">None</span>, <span style=\"color: #00af00; text-decoration-color: #00af00\">64</span>)             │             <span style=\"color: #00af00; text-decoration-color: #00af00\">0</span> │\n",
              "├─────────────────────────────────┼────────────────────────┼───────────────┤\n",
              "│ dense_1 (<span style=\"color: #0087ff; text-decoration-color: #0087ff\">Dense</span>)                 │ (<span style=\"color: #00d7ff; text-decoration-color: #00d7ff\">None</span>, <span style=\"color: #00af00; text-decoration-color: #00af00\">4</span>)              │           <span style=\"color: #00af00; text-decoration-color: #00af00\">260</span> │\n",
              "└─────────────────────────────────┴────────────────────────┴───────────────┘\n",
              "</pre>\n"
            ]
          },
          "metadata": {}
        },
        {
          "output_type": "display_data",
          "data": {
            "text/plain": [
              "\u001b[1m Total params: \u001b[0m\u001b[38;5;34m63,716\u001b[0m (248.89 KB)\n"
            ],
            "text/html": [
              "<pre style=\"white-space:pre;overflow-x:auto;line-height:normal;font-family:Menlo,'DejaVu Sans Mono',consolas,'Courier New',monospace\"><span style=\"font-weight: bold\"> Total params: </span><span style=\"color: #00af00; text-decoration-color: #00af00\">63,716</span> (248.89 KB)\n",
              "</pre>\n"
            ]
          },
          "metadata": {}
        },
        {
          "output_type": "display_data",
          "data": {
            "text/plain": [
              "\u001b[1m Trainable params: \u001b[0m\u001b[38;5;34m63,524\u001b[0m (248.14 KB)\n"
            ],
            "text/html": [
              "<pre style=\"white-space:pre;overflow-x:auto;line-height:normal;font-family:Menlo,'DejaVu Sans Mono',consolas,'Courier New',monospace\"><span style=\"font-weight: bold\"> Trainable params: </span><span style=\"color: #00af00; text-decoration-color: #00af00\">63,524</span> (248.14 KB)\n",
              "</pre>\n"
            ]
          },
          "metadata": {}
        },
        {
          "output_type": "display_data",
          "data": {
            "text/plain": [
              "\u001b[1m Non-trainable params: \u001b[0m\u001b[38;5;34m192\u001b[0m (768.00 B)\n"
            ],
            "text/html": [
              "<pre style=\"white-space:pre;overflow-x:auto;line-height:normal;font-family:Menlo,'DejaVu Sans Mono',consolas,'Courier New',monospace\"><span style=\"font-weight: bold\"> Non-trainable params: </span><span style=\"color: #00af00; text-decoration-color: #00af00\">192</span> (768.00 B)\n",
              "</pre>\n"
            ]
          },
          "metadata": {}
        }
      ],
      "source": [
        "\n",
        "\n",
        "input_shape = X_train.shape[1:]  # (sequence_length, num_features)\n",
        "\n",
        "inputs = Input(shape=input_shape)\n",
        "x = Conv1D(64, kernel_size=3, activation='relu', padding='same')(inputs)\n",
        "x = BatchNormalization()(x)\n",
        "x = Conv1D(32, kernel_size=3, activation='relu', padding='same')(x)\n",
        "x = BatchNormalization()(x)\n",
        "x = Flatten()(x)\n",
        "x = Dense(64, activation='relu')(x)\n",
        "x = Dropout(0.3)(x)\n",
        "outputs = Dense(y_sequences_cat.shape[1], activation='softmax')(x)\n",
        "\n",
        "model = Model(inputs, outputs)\n",
        "model.compile(optimizer='adam', loss='categorical_crossentropy', metrics=['accuracy'])\n",
        "model.summary()\n"
      ]
    },
    {
      "cell_type": "code",
      "execution_count": null,
      "metadata": {
        "colab": {
          "base_uri": "https://localhost:8080/"
        },
        "id": "RMHbnvM_kyHy",
        "outputId": "54d0c0b7-88b9-44ed-99c5-db793f0f3a3d"
      },
      "outputs": [
        {
          "output_type": "stream",
          "name": "stdout",
          "text": [
            "Epoch 1/20\n",
            "\u001b[1m1370/1370\u001b[0m \u001b[32m━━━━━━━━━━━━━━━━━━━━\u001b[0m\u001b[37m\u001b[0m \u001b[1m25s\u001b[0m 14ms/step - accuracy: 0.6917 - loss: nan - val_accuracy: 0.6904 - val_loss: nan\n",
            "Epoch 2/20\n",
            "\u001b[1m1370/1370\u001b[0m \u001b[32m━━━━━━━━━━━━━━━━━━━━\u001b[0m\u001b[37m\u001b[0m \u001b[1m12s\u001b[0m 7ms/step - accuracy: 0.6926 - loss: nan - val_accuracy: 0.6904 - val_loss: nan\n",
            "Epoch 3/20\n",
            "\u001b[1m1370/1370\u001b[0m \u001b[32m━━━━━━━━━━━━━━━━━━━━\u001b[0m\u001b[37m\u001b[0m \u001b[1m11s\u001b[0m 8ms/step - accuracy: 0.6909 - loss: nan - val_accuracy: 0.6904 - val_loss: nan\n",
            "Epoch 4/20\n",
            "\u001b[1m1370/1370\u001b[0m \u001b[32m━━━━━━━━━━━━━━━━━━━━\u001b[0m\u001b[37m\u001b[0m \u001b[1m11s\u001b[0m 8ms/step - accuracy: 0.6947 - loss: nan - val_accuracy: 0.6904 - val_loss: nan\n",
            "Epoch 5/20\n",
            "\u001b[1m1370/1370\u001b[0m \u001b[32m━━━━━━━━━━━━━━━━━━━━\u001b[0m\u001b[37m\u001b[0m \u001b[1m11s\u001b[0m 8ms/step - accuracy: 0.6927 - loss: nan - val_accuracy: 0.6904 - val_loss: nan\n",
            "Epoch 6/20\n",
            "\u001b[1m1370/1370\u001b[0m \u001b[32m━━━━━━━━━━━━━━━━━━━━\u001b[0m\u001b[37m\u001b[0m \u001b[1m11s\u001b[0m 8ms/step - accuracy: 0.6881 - loss: nan - val_accuracy: 0.6904 - val_loss: nan\n",
            "Epoch 7/20\n",
            "\u001b[1m1370/1370\u001b[0m \u001b[32m━━━━━━━━━━━━━━━━━━━━\u001b[0m\u001b[37m\u001b[0m \u001b[1m20s\u001b[0m 8ms/step - accuracy: 0.6892 - loss: nan - val_accuracy: 0.6904 - val_loss: nan\n",
            "Epoch 8/20\n",
            "\u001b[1m1370/1370\u001b[0m \u001b[32m━━━━━━━━━━━━━━━━━━━━\u001b[0m\u001b[37m\u001b[0m \u001b[1m21s\u001b[0m 8ms/step - accuracy: 0.6945 - loss: nan - val_accuracy: 0.6904 - val_loss: nan\n",
            "Epoch 9/20\n",
            "\u001b[1m1370/1370\u001b[0m \u001b[32m━━━━━━━━━━━━━━━━━━━━\u001b[0m\u001b[37m\u001b[0m \u001b[1m12s\u001b[0m 9ms/step - accuracy: 0.6932 - loss: nan - val_accuracy: 0.6904 - val_loss: nan\n",
            "Epoch 10/20\n",
            "\u001b[1m1370/1370\u001b[0m \u001b[32m━━━━━━━━━━━━━━━━━━━━\u001b[0m\u001b[37m\u001b[0m \u001b[1m12s\u001b[0m 8ms/step - accuracy: 0.6939 - loss: nan - val_accuracy: 0.6904 - val_loss: nan\n",
            "Epoch 11/20\n",
            "\u001b[1m1370/1370\u001b[0m \u001b[32m━━━━━━━━━━━━━━━━━━━━\u001b[0m\u001b[37m\u001b[0m \u001b[1m20s\u001b[0m 8ms/step - accuracy: 0.6948 - loss: nan - val_accuracy: 0.6904 - val_loss: nan\n",
            "Epoch 12/20\n",
            "\u001b[1m1370/1370\u001b[0m \u001b[32m━━━━━━━━━━━━━━━━━━━━\u001b[0m\u001b[37m\u001b[0m \u001b[1m20s\u001b[0m 8ms/step - accuracy: 0.6904 - loss: nan - val_accuracy: 0.6904 - val_loss: nan\n",
            "Epoch 13/20\n",
            "\u001b[1m1370/1370\u001b[0m \u001b[32m━━━━━━━━━━━━━━━━━━━━\u001b[0m\u001b[37m\u001b[0m \u001b[1m12s\u001b[0m 9ms/step - accuracy: 0.6907 - loss: nan - val_accuracy: 0.6904 - val_loss: nan\n",
            "Epoch 14/20\n",
            "\u001b[1m1370/1370\u001b[0m \u001b[32m━━━━━━━━━━━━━━━━━━━━\u001b[0m\u001b[37m\u001b[0m \u001b[1m30s\u001b[0m 15ms/step - accuracy: 0.6942 - loss: nan - val_accuracy: 0.6904 - val_loss: nan\n",
            "Epoch 15/20\n",
            "\u001b[1m1370/1370\u001b[0m \u001b[32m━━━━━━━━━━━━━━━━━━━━\u001b[0m\u001b[37m\u001b[0m \u001b[1m11s\u001b[0m 8ms/step - accuracy: 0.6935 - loss: nan - val_accuracy: 0.6904 - val_loss: nan\n",
            "Epoch 16/20\n",
            "\u001b[1m1370/1370\u001b[0m \u001b[32m━━━━━━━━━━━━━━━━━━━━\u001b[0m\u001b[37m\u001b[0m \u001b[1m11s\u001b[0m 8ms/step - accuracy: 0.6930 - loss: nan - val_accuracy: 0.6904 - val_loss: nan\n",
            "Epoch 17/20\n",
            "\u001b[1m1370/1370\u001b[0m \u001b[32m━━━━━━━━━━━━━━━━━━━━\u001b[0m\u001b[37m\u001b[0m \u001b[1m20s\u001b[0m 8ms/step - accuracy: 0.6906 - loss: nan - val_accuracy: 0.6904 - val_loss: nan\n",
            "Epoch 18/20\n",
            "\u001b[1m1370/1370\u001b[0m \u001b[32m━━━━━━━━━━━━━━━━━━━━\u001b[0m\u001b[37m\u001b[0m \u001b[1m12s\u001b[0m 9ms/step - accuracy: 0.6924 - loss: nan - val_accuracy: 0.6904 - val_loss: nan\n",
            "Epoch 19/20\n",
            "\u001b[1m1370/1370\u001b[0m \u001b[32m━━━━━━━━━━━━━━━━━━━━\u001b[0m\u001b[37m\u001b[0m \u001b[1m10s\u001b[0m 8ms/step - accuracy: 0.6937 - loss: nan - val_accuracy: 0.6904 - val_loss: nan\n",
            "Epoch 20/20\n",
            "\u001b[1m1370/1370\u001b[0m \u001b[32m━━━━━━━━━━━━━━━━━━━━\u001b[0m\u001b[37m\u001b[0m \u001b[1m13s\u001b[0m 9ms/step - accuracy: 0.6894 - loss: nan - val_accuracy: 0.6904 - val_loss: nan\n"
          ]
        }
      ],
      "source": [
        "history = model.fit(\n",
        "    X_train, y_train,\n",
        "    validation_data=(X_test, y_test),\n",
        "    epochs=20,\n",
        "    batch_size=32\n",
        ")\n"
      ]
    },
    {
      "cell_type": "code",
      "execution_count": null,
      "metadata": {
        "id": "e86K0Iy_l7nG"
      },
      "outputs": [],
      "source": [
        "# Make sure operation column is clean before encoding\n",
        "df[target] = df[target].astype(str)\n",
        "\n",
        "label_encoder = LabelEncoder()\n",
        "df[\"operation_label\"] = label_encoder.fit_transform(df[target])\n",
        "y = to_categorical(df[\"operation_label\"])\n"
      ]
    },
    {
      "cell_type": "code",
      "execution_count": null,
      "metadata": {
        "colab": {
          "base_uri": "https://localhost:8080/"
        },
        "id": "i3B2ude1muYA",
        "outputId": "d3982a8e-5a87-4f3d-cc2c-b5ff735dcbfd"
      },
      "outputs": [
        {
          "output_type": "stream",
          "name": "stdout",
          "text": [
            "Classes: ['boot_delete' 'image_create_delete' 'network_create_delete' 'unknown']\n"
          ]
        }
      ],
      "source": [
        "# Replace np.nan or string \"nan\" with \"unknown\"\n",
        "df[target] = df[target].replace(\"nan\", np.nan)  # catch string nan\n",
        "df[target] = df[target].fillna(\"unknown\").astype(str)\n",
        "\n",
        "# Refit label encoder\n",
        "from sklearn.preprocessing import LabelEncoder\n",
        "from tensorflow.keras.utils import to_categorical\n",
        "\n",
        "label_encoder = LabelEncoder()\n",
        "df[\"operation_label\"] = label_encoder.fit_transform(df[target])\n",
        "y = to_categorical(df[\"operation_label\"])\n",
        "\n",
        "print(\"Classes:\", label_encoder.classes_)\n"
      ]
    },
    {
      "cell_type": "code",
      "execution_count": null,
      "metadata": {
        "colab": {
          "base_uri": "https://localhost:8080/"
        },
        "id": "7M0lEofgnAI5",
        "outputId": "1983f8e0-8062-4d80-b4ed-252c1689dcd9"
      },
      "outputs": [
        {
          "output_type": "stream",
          "name": "stdout",
          "text": [
            "Class weights: {0: np.float64(0.361538258644792), 1: np.float64(3.1539346525540726), 2: np.float64(2.5187431091510475), 3: np.float64(1.9232496141433983)}\n"
          ]
        }
      ],
      "source": [
        "\n",
        "# Use integer labels, not one-hot\n",
        "class_weights_array = compute_class_weight(\n",
        "    class_weight=\"balanced\",\n",
        "    classes=np.unique(df[\"operation_label\"]),\n",
        "    y=df[\"operation_label\"]\n",
        ")\n",
        "class_weights = dict(enumerate(class_weights_array))\n",
        "\n",
        "print(\"Class weights:\", class_weights)\n"
      ]
    },
    {
      "cell_type": "code",
      "execution_count": null,
      "metadata": {
        "colab": {
          "base_uri": "https://localhost:8080/"
        },
        "id": "3MGP6ns-nD1B",
        "outputId": "bf69765c-8c76-4c59-9f62-62c7a676b4e4"
      },
      "outputs": [
        {
          "output_type": "stream",
          "name": "stdout",
          "text": [
            "Epoch 1/20\n",
            "\u001b[1m1370/1370\u001b[0m \u001b[32m━━━━━━━━━━━━━━━━━━━━\u001b[0m\u001b[37m\u001b[0m \u001b[1m14s\u001b[0m 9ms/step - accuracy: 0.6936 - loss: nan - val_accuracy: 0.6904 - val_loss: nan\n",
            "Epoch 2/20\n",
            "\u001b[1m1370/1370\u001b[0m \u001b[32m━━━━━━━━━━━━━━━━━━━━\u001b[0m\u001b[37m\u001b[0m \u001b[1m19s\u001b[0m 8ms/step - accuracy: 0.6917 - loss: nan - val_accuracy: 0.6904 - val_loss: nan\n",
            "Epoch 3/20\n",
            "\u001b[1m1370/1370\u001b[0m \u001b[32m━━━━━━━━━━━━━━━━━━━━\u001b[0m\u001b[37m\u001b[0m \u001b[1m20s\u001b[0m 8ms/step - accuracy: 0.6918 - loss: nan - val_accuracy: 0.6904 - val_loss: nan\n",
            "Epoch 4/20\n",
            "\u001b[1m1370/1370\u001b[0m \u001b[32m━━━━━━━━━━━━━━━━━━━━\u001b[0m\u001b[37m\u001b[0m \u001b[1m11s\u001b[0m 8ms/step - accuracy: 0.6932 - loss: nan - val_accuracy: 0.6904 - val_loss: nan\n",
            "Epoch 5/20\n",
            "\u001b[1m1370/1370\u001b[0m \u001b[32m━━━━━━━━━━━━━━━━━━━━\u001b[0m\u001b[37m\u001b[0m \u001b[1m20s\u001b[0m 8ms/step - accuracy: 0.6930 - loss: nan - val_accuracy: 0.6904 - val_loss: nan\n",
            "Epoch 6/20\n",
            "\u001b[1m1370/1370\u001b[0m \u001b[32m━━━━━━━━━━━━━━━━━━━━\u001b[0m\u001b[37m\u001b[0m \u001b[1m11s\u001b[0m 8ms/step - accuracy: 0.6944 - loss: nan - val_accuracy: 0.6904 - val_loss: nan\n",
            "Epoch 7/20\n",
            "\u001b[1m1370/1370\u001b[0m \u001b[32m━━━━━━━━━━━━━━━━━━━━\u001b[0m\u001b[37m\u001b[0m \u001b[1m20s\u001b[0m 8ms/step - accuracy: 0.6915 - loss: nan - val_accuracy: 0.6904 - val_loss: nan\n",
            "Epoch 8/20\n",
            "\u001b[1m1370/1370\u001b[0m \u001b[32m━━━━━━━━━━━━━━━━━━━━\u001b[0m\u001b[37m\u001b[0m \u001b[1m11s\u001b[0m 8ms/step - accuracy: 0.6960 - loss: nan - val_accuracy: 0.6904 - val_loss: nan\n",
            "Epoch 9/20\n",
            "\u001b[1m1370/1370\u001b[0m \u001b[32m━━━━━━━━━━━━━━━━━━━━\u001b[0m\u001b[37m\u001b[0m \u001b[1m20s\u001b[0m 8ms/step - accuracy: 0.6888 - loss: nan - val_accuracy: 0.6904 - val_loss: nan\n",
            "Epoch 10/20\n",
            "\u001b[1m1370/1370\u001b[0m \u001b[32m━━━━━━━━━━━━━━━━━━━━\u001b[0m\u001b[37m\u001b[0m \u001b[1m11s\u001b[0m 8ms/step - accuracy: 0.6912 - loss: nan - val_accuracy: 0.6904 - val_loss: nan\n",
            "Epoch 11/20\n",
            "\u001b[1m1370/1370\u001b[0m \u001b[32m━━━━━━━━━━━━━━━━━━━━\u001b[0m\u001b[37m\u001b[0m \u001b[1m12s\u001b[0m 8ms/step - accuracy: 0.6953 - loss: nan - val_accuracy: 0.6904 - val_loss: nan\n",
            "Epoch 12/20\n",
            "\u001b[1m1370/1370\u001b[0m \u001b[32m━━━━━━━━━━━━━━━━━━━━\u001b[0m\u001b[37m\u001b[0m \u001b[1m12s\u001b[0m 9ms/step - accuracy: 0.6912 - loss: nan - val_accuracy: 0.6904 - val_loss: nan\n",
            "Epoch 13/20\n",
            "\u001b[1m1370/1370\u001b[0m \u001b[32m━━━━━━━━━━━━━━━━━━━━\u001b[0m\u001b[37m\u001b[0m \u001b[1m20s\u001b[0m 8ms/step - accuracy: 0.6908 - loss: nan - val_accuracy: 0.6904 - val_loss: nan\n",
            "Epoch 14/20\n",
            "\u001b[1m1370/1370\u001b[0m \u001b[32m━━━━━━━━━━━━━━━━━━━━\u001b[0m\u001b[37m\u001b[0m \u001b[1m21s\u001b[0m 9ms/step - accuracy: 0.6934 - loss: nan - val_accuracy: 0.6904 - val_loss: nan\n",
            "Epoch 15/20\n",
            "\u001b[1m1370/1370\u001b[0m \u001b[32m━━━━━━━━━━━━━━━━━━━━\u001b[0m\u001b[37m\u001b[0m \u001b[1m12s\u001b[0m 8ms/step - accuracy: 0.6926 - loss: nan - val_accuracy: 0.6904 - val_loss: nan\n",
            "Epoch 16/20\n",
            "\u001b[1m1370/1370\u001b[0m \u001b[32m━━━━━━━━━━━━━━━━━━━━\u001b[0m\u001b[37m\u001b[0m \u001b[1m12s\u001b[0m 8ms/step - accuracy: 0.6875 - loss: nan - val_accuracy: 0.6904 - val_loss: nan\n",
            "Epoch 17/20\n",
            "\u001b[1m1370/1370\u001b[0m \u001b[32m━━━━━━━━━━━━━━━━━━━━\u001b[0m\u001b[37m\u001b[0m \u001b[1m12s\u001b[0m 9ms/step - accuracy: 0.6982 - loss: nan - val_accuracy: 0.6904 - val_loss: nan\n",
            "Epoch 18/20\n",
            "\u001b[1m1370/1370\u001b[0m \u001b[32m━━━━━━━━━━━━━━━━━━━━\u001b[0m\u001b[37m\u001b[0m \u001b[1m12s\u001b[0m 8ms/step - accuracy: 0.6906 - loss: nan - val_accuracy: 0.6904 - val_loss: nan\n",
            "Epoch 19/20\n",
            "\u001b[1m1370/1370\u001b[0m \u001b[32m━━━━━━━━━━━━━━━━━━━━\u001b[0m\u001b[37m\u001b[0m \u001b[1m12s\u001b[0m 9ms/step - accuracy: 0.6905 - loss: nan - val_accuracy: 0.6904 - val_loss: nan\n",
            "Epoch 20/20\n",
            "\u001b[1m1370/1370\u001b[0m \u001b[32m━━━━━━━━━━━━━━━━━━━━\u001b[0m\u001b[37m\u001b[0m \u001b[1m20s\u001b[0m 9ms/step - accuracy: 0.6933 - loss: nan - val_accuracy: 0.6904 - val_loss: nan\n"
          ]
        }
      ],
      "source": [
        "history = model.fit(\n",
        "    X_train, y_train,\n",
        "    validation_data=(X_test, y_test),\n",
        "    epochs=20,\n",
        "    batch_size=32,\n",
        "    class_weight=class_weights\n",
        ")\n"
      ]
    },
    {
      "cell_type": "code",
      "execution_count": null,
      "metadata": {
        "colab": {
          "base_uri": "https://localhost:8080/",
          "height": 1000
        },
        "id": "6lveMML1n6Ux",
        "outputId": "8fd2fde2-9db8-475e-d80a-5eefdf0a0495"
      },
      "outputs": [
        {
          "output_type": "stream",
          "name": "stdout",
          "text": [
            "\u001b[1m343/343\u001b[0m \u001b[32m━━━━━━━━━━━━━━━━━━━━\u001b[0m\u001b[37m\u001b[0m \u001b[1m1s\u001b[0m 3ms/step\n"
          ]
        },
        {
          "output_type": "stream",
          "name": "stderr",
          "text": [
            "/usr/local/lib/python3.12/dist-packages/sklearn/metrics/_classification.py:1565: UndefinedMetricWarning: Precision is ill-defined and being set to 0.0 in labels with no predicted samples. Use `zero_division` parameter to control this behavior.\n",
            "  _warn_prf(average, modifier, f\"{metric.capitalize()} is\", len(result))\n",
            "/usr/local/lib/python3.12/dist-packages/sklearn/metrics/_classification.py:1565: UndefinedMetricWarning: Precision is ill-defined and being set to 0.0 in labels with no predicted samples. Use `zero_division` parameter to control this behavior.\n",
            "  _warn_prf(average, modifier, f\"{metric.capitalize()} is\", len(result))\n",
            "/usr/local/lib/python3.12/dist-packages/sklearn/metrics/_classification.py:1565: UndefinedMetricWarning: Precision is ill-defined and being set to 0.0 in labels with no predicted samples. Use `zero_division` parameter to control this behavior.\n",
            "  _warn_prf(average, modifier, f\"{metric.capitalize()} is\", len(result))\n"
          ]
        },
        {
          "output_type": "stream",
          "name": "stdout",
          "text": [
            "                       precision    recall  f1-score   support\n",
            "\n",
            "          boot_delete       0.69      1.00      0.82      7565\n",
            "  image_create_delete       0.00      0.00      0.00       898\n",
            "network_create_delete       0.00      0.00      0.00      1060\n",
            "              unknown       0.00      0.00      0.00      1434\n",
            "\n",
            "             accuracy                           0.69     10957\n",
            "            macro avg       0.17      0.25      0.20     10957\n",
            "         weighted avg       0.48      0.69      0.56     10957\n",
            "\n"
          ]
        },
        {
          "output_type": "display_data",
          "data": {
            "text/plain": [
              "<Figure size 800x600 with 2 Axes>"
            ],
            "image/png": "[encoded data removed]"
          },
          "metadata": {}
        }
      ],
      "source": [
        "\n",
        "\n",
        "# Predictions\n",
        "y_pred = model.predict(X_test)\n",
        "y_pred_classes = np.argmax(y_pred, axis=1)\n",
        "y_true = np.argmax(y_test, axis=1)\n",
        "\n",
        "# Report\n",
        "print(classification_report(y_true, y_pred_classes, target_names=label_encoder.classes_))\n",
        "\n",
        "# Confusion Matrix\n",
        "cm = confusion_matrix(y_true, y_pred_classes)\n",
        "plt.figure(figsize=(8,6))\n",
        "sns.heatmap(cm, annot=True, fmt=\"d\", cmap=\"Blues\",\n",
        "            xticklabels=label_encoder.classes_,\n",
        "            yticklabels=label_encoder.classes_)\n",
        "plt.xlabel(\"Predicted\")\n",
        "plt.ylabel(\"True\")\n",
        "plt.title(\"Confusion Matrix\")\n",
        "plt.show()\n"
      ]
    },
    {
      "cell_type": "code",
      "execution_count": null,
      "metadata": {
        "colab": {
          "base_uri": "https://localhost:8080/"
        },
        "id": "_RPXEIrGoKTd",
        "outputId": "5f7347a5-baff-4d9c-ce71-f6f102089489"
      },
      "outputs": [
        {
          "output_type": "stream",
          "name": "stdout",
          "text": [
            "Requirement already satisfied: imbalanced-learn in /usr/local/lib/python3.12/dist-packages (0.14.0)\n",
            "Requirement already satisfied: numpy<3,>=1.25.2 in /usr/local/lib/python3.12/dist-packages (from imbalanced-learn) (2.0.2)\n",
            "Requirement already satisfied: scipy<2,>=1.11.4 in /usr/local/lib/python3.12/dist-packages (from imbalanced-learn) (1.16.1)\n",
            "Requirement already satisfied: scikit-learn<2,>=1.4.2 in /usr/local/lib/python3.12/dist-packages (from imbalanced-learn) (1.6.1)\n",
            "Requirement already satisfied: joblib<2,>=1.2.0 in /usr/local/lib/python3.12/dist-packages (from imbalanced-learn) (1.5.2)\n",
            "Requirement already satisfied: threadpoolctl<4,>=2.0.0 in /usr/local/lib/python3.12/dist-packages (from imbalanced-learn) (3.6.0)\n",
            "Original class distribution: [37913  4337  5442  7091]\n",
            "Resampled class distribution: [37913 37913 37913 37913]\n"
          ]
        }
      ],
      "source": [
        "\n",
        "\n",
        "# Flatten sequences for oversampling\n",
        "X_flat = X_sequences.reshape(len(X_sequences), -1)\n",
        "y_flat = y_sequences  # integer labels, not one-hot\n",
        "\n",
        "ros = RandomOverSampler(random_state=42)\n",
        "X_resampled, y_resampled = ros.fit_resample(X_flat, y_flat)\n",
        "\n",
        "# Reshape back into sequence form\n",
        "X_resampled = X_resampled.reshape(-1, sequence_length, X_sequences.shape[2])\n",
        "y_resampled_cat = to_categorical(y_resampled)\n",
        "\n",
        "print(\"Original class distribution:\", np.bincount(y_flat))\n",
        "print(\"Resampled class distribution:\", np.bincount(y_resampled))\n"
      ]
    },
    {
      "cell_type": "code",
      "execution_count": null,
      "metadata": {
        "colab": {
          "base_uri": "https://localhost:8080/"
        },
        "id": "fAZckRnpoPOW",
        "outputId": "1a9f21c8-e55b-41a7-ee64-c8b530c4683d"
      },
      "outputs": [
        {
          "output_type": "stream",
          "name": "stdout",
          "text": [
            "Epoch 1/30\n",
            "\u001b[1m4740/4740\u001b[0m \u001b[32m━━━━━━━━━━━━━━━━━━━━\u001b[0m\u001b[37m\u001b[0m \u001b[1m51s\u001b[0m 11ms/step - accuracy: 0.2508 - loss: nan - val_accuracy: 0.6904 - val_loss: nan\n",
            "Epoch 2/30\n",
            "\u001b[1m4740/4740\u001b[0m \u001b[32m━━━━━━━━━━━━━━━━━━━━\u001b[0m\u001b[37m\u001b[0m \u001b[1m66s\u001b[0m 7ms/step - accuracy: 0.2506 - loss: nan - val_accuracy: 0.6904 - val_loss: nan\n",
            "Epoch 3/30\n",
            "\u001b[1m4740/4740\u001b[0m \u001b[32m━━━━━━━━━━━━━━━━━━━━\u001b[0m\u001b[37m\u001b[0m \u001b[1m37s\u001b[0m 8ms/step - accuracy: 0.2478 - loss: nan - val_accuracy: 0.6904 - val_loss: nan\n",
            "Epoch 4/30\n",
            "\u001b[1m4740/4740\u001b[0m \u001b[32m━━━━━━━━━━━━━━━━━━━━\u001b[0m\u001b[37m\u001b[0m \u001b[1m41s\u001b[0m 8ms/step - accuracy: 0.2493 - loss: nan - val_accuracy: 0.6904 - val_loss: nan\n",
            "Epoch 5/30\n",
            "\u001b[1m4740/4740\u001b[0m \u001b[32m━━━━━━━━━━━━━━━━━━━━\u001b[0m\u001b[37m\u001b[0m \u001b[1m35s\u001b[0m 7ms/step - accuracy: 0.2500 - loss: nan - val_accuracy: 0.6904 - val_loss: nan\n",
            "Epoch 6/30\n",
            "\u001b[1m4740/4740\u001b[0m \u001b[32m━━━━━━━━━━━━━━━━━━━━\u001b[0m\u001b[37m\u001b[0m \u001b[1m36s\u001b[0m 8ms/step - accuracy: 0.2528 - loss: nan - val_accuracy: 0.6904 - val_loss: nan\n",
            "Epoch 7/30\n",
            "\u001b[1m4740/4740\u001b[0m \u001b[32m━━━━━━━━━━━━━━━━━━━━\u001b[0m\u001b[37m\u001b[0m \u001b[1m40s\u001b[0m 7ms/step - accuracy: 0.2500 - loss: nan - val_accuracy: 0.6904 - val_loss: nan\n",
            "Epoch 8/30\n",
            "\u001b[1m4740/4740\u001b[0m \u001b[32m━━━━━━━━━━━━━━━━━━━━\u001b[0m\u001b[37m\u001b[0m \u001b[1m36s\u001b[0m 8ms/step - accuracy: 0.2506 - loss: nan - val_accuracy: 0.6904 - val_loss: nan\n",
            "Epoch 9/30\n",
            "\u001b[1m4740/4740\u001b[0m \u001b[32m━━━━━━━━━━━━━━━━━━━━\u001b[0m\u001b[37m\u001b[0m \u001b[1m40s\u001b[0m 7ms/step - accuracy: 0.2499 - loss: nan - val_accuracy: 0.6904 - val_loss: nan\n",
            "Epoch 10/30\n",
            "\u001b[1m4740/4740\u001b[0m \u001b[32m━━━━━━━━━━━━━━━━━━━━\u001b[0m\u001b[37m\u001b[0m \u001b[1m36s\u001b[0m 8ms/step - accuracy: 0.2495 - loss: nan - val_accuracy: 0.6904 - val_loss: nan\n",
            "Epoch 11/30\n",
            "\u001b[1m2459/4740\u001b[0m \u001b[32m━━━━━━━━━━\u001b[0m\u001b[37m━━━━━━━━━━\u001b[0m \u001b[1m16s\u001b[0m 7ms/step - accuracy: 0.2507 - loss: nan"
          ]
        }
      ],
      "source": [
        "history = model.fit(\n",
        "    X_resampled, y_resampled_cat,\n",
        "    validation_data=(X_test, y_test),\n",
        "    epochs=30,\n",
        "    batch_size=32,\n",
        "    verbose=1\n",
        ")\n"
      ]
    },
    {
      "cell_type": "code",
      "source": [
        "# Get predictions\n",
        "y_pred = model.predict(X_test)\n",
        "y_pred_classes = np.argmax(y_pred, axis=1)\n",
        "y_true = np.argmax(y_test, axis=1)\n",
        "\n",
        "print(\"Predictions shape:\", y_pred_classes.shape)\n",
        "print(\"True labels shape:\", y_true.shape)"
      ],
      "metadata": {
        "id": "e-kvOWCF2s3c"
      },
      "execution_count": null,
      "outputs": []
    },
    {
      "cell_type": "code",
      "source": [
        "\n",
        "\n",
        "target_names = [str(c) for c in label_encoder.classes_]\n",
        "\n",
        "report = classification_report(y_true, y_pred_classes, target_names=target_names, zero_division=0)\n",
        "print(report)"
      ],
      "metadata": {
        "id": "tuOa_Tkj2wKj"
      },
      "execution_count": null,
      "outputs": []
    },
    {
      "cell_type": "code",
      "source": [
        "\n",
        "\n",
        "cm = confusion_matrix(y_true, y_pred_classes)\n",
        "\n",
        "plt.figure(figsize=(8,6))\n",
        "sns.heatmap(cm, annot=True, fmt=\"d\", cmap=\"Blues\",\n",
        "            xticklabels=target_names,\n",
        "            yticklabels=target_names)\n",
        "plt.xlabel(\"Predicted\")\n",
        "plt.ylabel(\"True\")\n",
        "plt.title(\"Confusion Matrix\")\n",
        "plt.show()"
      ],
      "metadata": {
        "id": "OUze-ZoX2zln"
      },
      "execution_count": null,
      "outputs": []
    },
    {
      "cell_type": "code",
      "source": [
        "\n",
        "\n",
        "for i, class_name in enumerate(target_names):\n",
        "    idx = y_true == i\n",
        "    class_acc = np.sum(y_pred_classes[idx] == i) / np.sum(idx)\n",
        "    print(f\"Accuracy for {class_name}: {class_acc:.2f}\")"
      ],
      "metadata": {
        "id": "NGxd-RZX257k"
      },
      "execution_count": null,
      "outputs": []
    },
    {
      "cell_type": "code",
      "source": [
        "plt.figure(figsize=(12,4))\n",
        "\n",
        "# Accuracy\n",
        "plt.subplot(1,2,1)\n",
        "plt.plot(history.history['accuracy'], label='train')\n",
        "plt.plot(history.history['val_accuracy'], label='val')\n",
        "plt.title(\"Accuracy over epochs\")\n",
        "plt.xlabel(\"Epoch\")\n",
        "plt.ylabel(\"Accuracy\")\n",
        "plt.legend()\n",
        "\n",
        "# Loss\n",
        "plt.subplot(1,2,2)\n",
        "plt.plot(history.history['loss'], label='train')\n",
        "plt.plot(history.history['val_loss'], label='val')\n",
        "plt.title(\"Loss over epochs\")\n",
        "plt.xlabel(\"Epoch\")\n",
        "plt.ylabel(\"Loss\")\n",
        "plt.legend()\n",
        "\n",
        "plt.show()"
      ],
      "metadata": {
        "id": "oo8A7Kim28Q0"
      },
      "execution_count": null,
      "outputs": []
    },
    {
      "cell_type": "markdown",
      "source": [
        "\n",
        "This explains why all predictions appear as boot_delete: the model did not learn the minority classes, leading to:\n",
        "\n",
        "1) Precision/recall = 0 for all non-majority classes.\n",
        "2) SHAP errors, because outputs for other classes are effectively zero and the explanation cannot distribute contributions.\n",
        "\n",
        "Cause:\n",
        "\n",
        "- Extreme class imbalance: boot_delete dominates (~70% of sequences).\n",
        "- Minority classes are too rare: the CNN sees too few examples to learn patterns.\n",
        "- Class weights alone are insufficient; oversampling or sequence-level augmentation is required.\n",
        "\n"
      ],
      "metadata": {
        "id": "PCkGYfcw3fZg"
      }
    },
    {
      "cell_type": "code",
      "source": [
        "\n",
        "\n",
        "# Flatten sequences for oversampling\n",
        "X_flat = X_sequences.reshape(len(X_sequences), -1)\n",
        "y_flat = y_sequences\n",
        "\n",
        "ros = RandomOverSampler(random_state=42)\n",
        "X_resampled, y_resampled = ros.fit_resample(X_flat, y_flat)\n",
        "\n",
        "# Reshape back into sequences\n",
        "X_resampled = X_resampled.reshape(-1, X_sequences.shape[1], X_sequences.shape[2])\n",
        "y_resampled_cat = to_categorical(y_resampled)\n",
        "\n",
        "print(\"Before oversampling:\", np.bincount(y_flat))\n",
        "print(\"After oversampling:\", np.bincount(y_resampled))"
      ],
      "metadata": {
        "id": "HbI9yoBG3ber"
      },
      "execution_count": null,
      "outputs": []
    },
    {
      "cell_type": "code",
      "source": [
        "history = model.fit(\n",
        "    X_resampled, y_resampled_cat,\n",
        "    validation_data=(X_test, y_test),  # keep test set unchanged\n",
        "    epochs=30,\n",
        "    batch_size=32\n",
        ")"
      ],
      "metadata": {
        "id": "1atkr8d13ha6"
      },
      "execution_count": null,
      "outputs": []
    },
    {
      "cell_type": "code",
      "source": [
        "\n",
        "\n",
        "# Predictions on test set\n",
        "\n",
        "y_pred = model.predict(X_test)\n",
        "y_pred_classes = np.argmax(y_pred, axis=1)\n",
        "y_true = np.argmax(y_test, axis=1)\n",
        "\n",
        "print(\"Predictions shape:\", y_pred_classes.shape)\n",
        "print(\"True labels shape:\", y_true.shape)\n",
        "\n",
        "# Classification report\n",
        "\n",
        "target_names = [str(c) for c in label_encoder.classes_]\n",
        "report = classification_report(y_true, y_pred_classes, target_names=target_names, zero_division=0)\n",
        "print(\"Classification Report:\\n\")\n",
        "print(report)\n",
        "\n",
        "# Confusion matrix\n",
        "\n",
        "cm = confusion_matrix(y_true, y_pred_classes)\n",
        "plt.figure(figsize=(8,6))\n",
        "sns.heatmap(cm, annot=True, fmt=\"d\", cmap=\"Blues\",\n",
        "            xticklabels=target_names,\n",
        "            yticklabels=target_names)\n",
        "plt.xlabel(\"Predicted\")\n",
        "plt.ylabel(\"True\")\n",
        "plt.title(\"Confusion Matrix\")\n",
        "plt.show()\n",
        "\n",
        "\n",
        "# Per-class accuracy\n",
        "\n",
        "print(\"Per-class accuracy:\")\n",
        "for i, class_name in enumerate(target_names):\n",
        "    idx = y_true == i\n",
        "    if np.sum(idx) > 0:\n",
        "        class_acc = np.sum(y_pred_classes[idx] == i) / np.sum(idx)\n",
        "        print(f\"  {class_name}: {class_acc:.2f}\")\n",
        "    else:\n",
        "        print(f\"  {class_name}: No samples in test set\")\n",
        "\n",
        "\n",
        "# Training history plots (if model trained with `history`)\n",
        "if 'history' in globals():\n",
        "    plt.figure(figsize=(12,4))\n",
        "\n",
        "    # Accuracy plot\n",
        "    plt.subplot(1,2,1)\n",
        "    plt.plot(history.history['accuracy'], label='train')\n",
        "    plt.plot(history.history['val_accuracy'], label='val')\n",
        "    plt.title(\"Model Accuracy\")\n",
        "    plt.xlabel(\"Epoch\")\n",
        "    plt.ylabel(\"Accuracy\")\n",
        "    plt.legend()\n",
        "\n",
        "    # Loss plot\n",
        "    plt.subplot(1,2,2)\n",
        "    plt.plot(history.history['loss'], label='train')\n",
        "    plt.plot(history.history['val_loss'], label='val')\n",
        "    plt.title(\"Model Loss\")\n",
        "    plt.xlabel(\"Epoch\")\n",
        "    plt.ylabel(\"Loss\")\n",
        "    plt.legend()\n",
        "\n",
        "    plt.show()"
      ],
      "metadata": {
        "id": "FnD5cZQE33Ou"
      },
      "execution_count": null,
      "outputs": []
    },
    {
      "cell_type": "code",
      "source": [
        "# Rebuild CNN from scratch\n",
        "input_shape = X_resampled.shape[1:]  # (sequence_length, num_features)\n",
        "\n",
        "inputs = tf.keras.Input(shape=input_shape)\n",
        "x = tf.keras.layers.Conv1D(64, kernel_size=3, activation='relu', padding='same')(inputs)\n",
        "x = tf.keras.layers.BatchNormalization()(x)\n",
        "x = tf.keras.layers.Conv1D(32, kernel_size=3, activation='relu', padding='same')(x)\n",
        "x = tf.keras.layers.BatchNormalization()(x)\n",
        "x = tf.keras.layers.Flatten()(x)\n",
        "x = tf.keras.layers.Dense(64, activation='relu')(x)\n",
        "x = tf.keras.layers.Dropout(0.3)(x)\n",
        "outputs = tf.keras.layers.Dense(y_resampled_cat.shape[1], activation='softmax')(x)\n",
        "\n",
        "model = tf.keras.Model(inputs, outputs)\n",
        "model.compile(optimizer='adam', loss='categorical_crossentropy', metrics=['accuracy'])\n",
        "model.summary()"
      ],
      "metadata": {
        "id": "LFzwJgnj8MD2"
      },
      "execution_count": null,
      "outputs": []
    },
    {
      "cell_type": "code",
      "source": [
        "history = model.fit(\n",
        "    X_resampled, y_resampled_cat,\n",
        "    validation_data=(X_test, y_test),  # test set stays imbalanced\n",
        "    epochs=30,\n",
        "    batch_size=32\n",
        ")"
      ],
      "metadata": {
        "id": "8n66LwKN8QUA"
      },
      "execution_count": null,
      "outputs": []
    },
    {
      "cell_type": "code",
      "source": [
        "\n",
        "print(\"Any NaNs in X_resampled?\", np.isnan(X_resampled).any())\n",
        "print(\"Any Infs in X_resampled?\", np.isinf(X_resampled).any())"
      ],
      "metadata": {
        "id": "8z79zeWd98Oi"
      },
      "execution_count": null,
      "outputs": []
    },
    {
      "cell_type": "code",
      "source": [
        "X_resampled = np.nan_to_num(X_resampled, nan=0.0, posinf=1e5, neginf=-1e5)"
      ],
      "metadata": {
        "id": "uqxd2MTi9_6-"
      },
      "execution_count": null,
      "outputs": []
    },
    {
      "cell_type": "code",
      "source": [
        "# Verify\n",
        "print(\"Any NaNs after fix?\", np.isnan(X_resampled).any())"
      ],
      "metadata": {
        "id": "N6aIxInC-UBs"
      },
      "execution_count": null,
      "outputs": []
    },
    {
      "cell_type": "code",
      "source": [
        "\n",
        "# Only scale numeric columns\n",
        "scaler = StandardScaler()\n",
        "df[numeric_features] = scaler.fit_transform(df[numeric_features])\n",
        "\n",
        "# One-hot categorical columns are already 0/1 → no scaling needed"
      ],
      "metadata": {
        "id": "NkS4O6TJ-B7o"
      },
      "execution_count": null,
      "outputs": []
    },
    {
      "cell_type": "code",
      "source": [
        "print(\"Max value:\", X_resampled.max())\n",
        "print(\"Min value:\", X_resampled.min())"
      ],
      "metadata": {
        "id": "rusxWFaL-DyX"
      },
      "execution_count": null,
      "outputs": []
    },
    {
      "cell_type": "code",
      "source": [
        "# Clip extreme values to [-10, 10] to prevent exploding activations\n",
        "X_resampled = np.clip(X_resampled, -10, 10)"
      ],
      "metadata": {
        "id": "QLGBNEdN-YWQ"
      },
      "execution_count": null,
      "outputs": []
    },
    {
      "cell_type": "code",
      "source": [
        "\n",
        "optimizer = Adam(learning_rate=1e-4)  # lower LR for stability\n",
        "model.compile(optimizer=optimizer, loss='categorical_crossentropy', metrics=['accuracy'])"
      ],
      "metadata": {
        "id": "FqJRcet9-aw9"
      },
      "execution_count": null,
      "outputs": []
    },
    {
      "cell_type": "code",
      "source": [
        "\n",
        "print(\"Any NaNs in y_resampled_cat?\", np.isnan(y_resampled_cat).any())\n",
        "print(\"Any Infs in y_resampled_cat?\", np.isinf(y_resampled_cat).any())\n",
        "print(\"Min/Max values in y_resampled_cat:\", y_resampled_cat.min(), y_resampled_cat.max())"
      ],
      "metadata": {
        "id": "fBX68CuS-cLn"
      },
      "execution_count": null,
      "outputs": []
    },
    {
      "cell_type": "code",
      "source": [
        "# Replace any remaining NaNs and infinities\n",
        "X_resampled = np.nan_to_num(X_resampled, nan=0.0, posinf=1e5, neginf=-1e5)\n",
        "\n",
        "# Convert to float32\n",
        "X_resampled = X_resampled.astype(np.float32)\n",
        "y_resampled_cat = y_resampled_cat.astype(np.float32)\n",
        "\n",
        "# Clip extreme values for stability\n",
        "X_resampled = np.clip(X_resampled, -10, 10)"
      ],
      "metadata": {
        "id": "ZPFdqSGL-4j_"
      },
      "execution_count": null,
      "outputs": []
    },
    {
      "cell_type": "code",
      "source": [
        "\n",
        "optimizer = Adam(learning_rate=1e-4)  # smaller LR prevents exploding gradients"
      ],
      "metadata": {
        "id": "W_CdrLg1_7_b"
      },
      "execution_count": null,
      "outputs": []
    },
    {
      "cell_type": "code",
      "source": [
        "\n",
        "inputs = tf.keras.Input(shape=X_resampled.shape[1:])\n",
        "x = tf.keras.layers.Conv1D(32, 3, activation='relu', padding='same')(inputs)\n",
        "x = tf.keras.layers.Conv1D(16, 3, activation='relu', padding='same')(x)\n",
        "x = tf.keras.layers.Flatten()(x)\n",
        "x = tf.keras.layers.Dense(32, activation='relu')(x)\n",
        "outputs = tf.keras.layers.Dense(y_resampled_cat.shape[1], activation='softmax')(x)\n",
        "\n",
        "model = tf.keras.Model(inputs, outputs)\n",
        "model.compile(optimizer=optimizer, loss='categorical_crossentropy', metrics=['accuracy'])\n",
        "model.summary()"
      ],
      "metadata": {
        "id": "l03p624i_9wc"
      },
      "execution_count": null,
      "outputs": []
    },
    {
      "cell_type": "code",
      "source": [
        "history = model.fit(\n",
        "    X_resampled, y_resampled_cat,\n",
        "    validation_data=(X_test.astype(np.float32), y_test.astype(np.float32)),\n",
        "    epochs=30,\n",
        "    batch_size=32\n",
        ")"
      ],
      "metadata": {
        "id": "RBRUad7tABJS"
      },
      "execution_count": null,
      "outputs": []
    },
    {
      "cell_type": "code",
      "source": [
        "# Clean up validation/test set\n",
        "X_test = np.nan_to_num(X_test, nan=0.0, posinf=1e5, neginf=-1e5)\n",
        "X_test = X_test.astype(np.float32)\n",
        "\n",
        "y_test = y_test.astype(np.float32)\n",
        "\n",
        "# Clip extreme values for stability\n",
        "X_test = np.clip(X_test, -10, 10)"
      ],
      "metadata": {
        "id": "8FzQDI6DCoGx"
      },
      "execution_count": null,
      "outputs": []
    },
    {
      "cell_type": "code",
      "source": [
        "# Retrain briefly after cleaning X_test\n",
        "history = model.fit(\n",
        "    X_resampled, y_resampled_cat,\n",
        "    validation_data=(X_test, y_test),\n",
        "    epochs=5,            # short run, just to verify val_loss is no longer NaN\n",
        "    batch_size=32,\n",
        "    verbose=1\n",
        ")"
      ],
      "metadata": {
        "id": "z8WAulu4CxyB"
      },
      "execution_count": null,
      "outputs": []
    },
    {
      "cell_type": "code",
      "source": [
        "\n",
        "\n",
        "y_pred_probs = model.predict(X_test)\n",
        "y_pred_classes = np.argmax(y_pred_probs, axis=1)\n",
        "y_true = np.argmax(y_test, axis=1)\n",
        "\n",
        "print(\"Classification Report:\")\n",
        "print(classification_report(y_true, y_pred_classes, target_names=label_encoder.classes_))\n",
        "\n",
        "cm = confusion_matrix(y_true, y_pred_classes)\n",
        "print(\"Confusion Matrix:\")\n",
        "print(cm)"
      ],
      "metadata": {
        "id": "okAiXydyDl4Q"
      },
      "execution_count": null,
      "outputs": []
    },
    {
      "cell_type": "code",
      "source": [
        "model.save(\"cnn_model.h5\")\n",
        "# Later or in another notebook\n",
        "from tensorflow.keras.models import load_model\n",
        "model = load_model(\"cnn_model.h5\")"
      ],
      "metadata": {
        "id": "4FLXySakDz5o"
      },
      "execution_count": null,
      "outputs": []
    },
    {
      "cell_type": "markdown",
      "source": [
        "\n",
        "\n",
        "\n",
        "1) Training data is heavily oversampled → the model sees many synthetic repetitions of minority classes, making it easy to memorize patterns.\n",
        "2) If features are strongly correlated with labels (e.g., program or pid leaking the operation), the model may use shortcuts for trivial predictions.\n",
        "3) Gap between Train (≈99.8%) and Test (≈99.6%) is very small → suggests possible leakage in preprocessing (scaler/OHE fit on all data).\n",
        "\n",
        "Current issue:\n",
        "RandomOverSampler is fully balancing all classes → risk of overfitting.\n",
        "\n",
        "Better strategies:\n",
        "- imblearn.over_sampling.SMOTE: synthesizes new minority samples instead of duplicating.\n",
        "- Limit oversampling: instead of perfect balance, raise minority classes to ~50% of majority class size.\n",
        "\n"
      ],
      "metadata": {
        "id": "hMbWNXpvFhjE"
      }
    },
    {
      "cell_type": "code",
      "source": [
        "\n",
        "# Flatten to 2D for imputer\n",
        "X_train_2d = X_train.reshape(len(X_train), -1)\n",
        "\n",
        "imputer = SimpleImputer(strategy=\"median\")\n",
        "X_train_imputed = imputer.fit_transform(X_train_2d)\n",
        "\n",
        "# Reshape back to sequences\n",
        "X_train = X_train_imputed.reshape(X_train.shape[0], X_train.shape[1], X_train.shape[2])"
      ],
      "metadata": {
        "id": "vWXQshIJGyKt"
      },
      "execution_count": null,
      "outputs": []
    },
    {
      "cell_type": "code",
      "source": [
        "\n",
        "\n",
        "# Get class counts\n",
        "unique, counts = np.unique(y_train_int, return_counts=True)\n",
        "class_counts = dict(zip(unique, counts))\n",
        "print(\"Original class counts:\", class_counts)\n",
        "\n",
        "# Define sampling strategy (e.g. minority = 50% of majority)\n",
        "majority_class = max(class_counts, key=class_counts.get)\n",
        "majority_count = class_counts[majority_class]\n",
        "\n",
        "sampling_strategy = {\n",
        "    cls: int(0.5 * majority_count) if count < 0.5 * majority_count else count\n",
        "    for cls, count in class_counts.items()\n",
        "}\n",
        "\n",
        "smote = SMOTE(sampling_strategy=sampling_strategy, random_state=42)\n",
        "\n",
        "X_train_res, y_train_res = smote.fit_resample(\n",
        "    X_train.reshape(len(X_train), -1), y_train_int\n",
        ")\n",
        "\n",
        "# Reshape back to sequences\n",
        "X_train_res = X_train_res.reshape(-1, X_train.shape[1], X_train.shape[2])\n",
        "y_train_res_cat = to_categorical(y_train_res)\n",
        "\n",
        "print(\"Resampled class counts:\", np.bincount(y_train_res))"
      ],
      "metadata": {
        "id": "mr-CcoPgGT-q"
      },
      "execution_count": null,
      "outputs": []
    },
    {
      "cell_type": "code",
      "source": [
        "\n",
        "\n",
        "# Baseline accuracy\n",
        "y_pred_base = model.predict(X_test)\n",
        "baseline_acc = accuracy_score(np.argmax(y_test, axis=1), np.argmax(y_pred_base, axis=1))\n",
        "\n",
        "importances = []\n",
        "for i in range(X_test.shape[2]):  # loop over features\n",
        "    X_test_perm = X_test.copy()\n",
        "    np.random.shuffle(X_test_perm[:, :, i])  # permute feature\n",
        "    y_pred_perm = model.predict(X_test_perm)\n",
        "    acc_perm = accuracy_score(np.argmax(y_test, axis=1), np.argmax(y_pred_perm, axis=1))\n",
        "    importances.append(baseline_acc - acc_perm)\n",
        "\n",
        "# Rank features by importance\n",
        "feature_names = numeric_features + list(ohe.get_feature_names_out(categorical_features))\n",
        "feat_importances = sorted(zip(feature_names, importances), key=lambda x: x[1], reverse=True)\n",
        "\n",
        "print(\"Top 15 most important features:\")\n",
        "for name, score in feat_importances[:15]:\n",
        "    print(f\"{name}: {score:.4f}\")"
      ],
      "metadata": {
        "id": "McHDMbU9G_XO"
      },
      "execution_count": null,
      "outputs": []
    },
    {
      "cell_type": "markdown",
      "source": [
        "Observations from feature importance\n",
        "\n",
        "\t•\tThe top features are mostly numeric system metrics:\n",
        "\t•\tmem_used_max, load15_mean, cpu_user_max, warning_logs, total_traces, missing_data, etc.\n",
        "\t•\tSome categorical identifiers appear (Hostname_wally123, pid_6.0) but their importance is much smaller.\n",
        "\t•\tMany features have near-zero contribution → keeping them might just add noise and risk overfitting.\n",
        "\n",
        "  What this tells us\n",
        "\n",
        "\t1.\tSystem metrics drive the model — makes sense, the operation affects CPU/memory/load.\n",
        "\t2.\tIdentifiers (hostname/pid) contribute, but minimally → including them is optional.\n",
        "\t•\tKeeping them might help a little, but can also cause overfitting or memorization of host-specific patterns.\n",
        "\t3.\tTop 10–15 features explain most of the predictive power.\n",
        "\t•\tYou can safely drop the rest to simplify the model and improve generalization."
      ],
      "metadata": {
        "id": "GjcpFP6FJi3M"
      }
    },
    {
      "cell_type": "code",
      "source": [
        "top_features = [name for name, _ in feat_importances[:15]]\n",
        "\n",
        "# For numeric features\n",
        "X_train_top = X_train_res[:, :, [numeric_features.index(f) for f in top_features if f in numeric_features]]\n",
        "\n",
        "# For categorical features\n",
        "cat_indices = [i for i, f in enumerate(feature_names) if f in top_features and f not in numeric_features]\n",
        "# If using OHE, you can slice columns accordingly\n",
        "# X_train_top_cat = X_train_res[:, :, cat_indices]"
      ],
      "metadata": {
        "id": "BW3ze846JgEX"
      },
      "execution_count": null,
      "outputs": []
    },
    {
      "cell_type": "code",
      "source": [
        "\n",
        "\n",
        "# Select top features\n",
        "\n",
        "top_features = [name for name, _ in feat_importances[:15]]\n",
        "\n",
        "# Get indices for numeric features\n",
        "numeric_idx = [numeric_features.index(f) for f in top_features if f in numeric_features]\n",
        "\n",
        "# Get indices for categorical features (OHE columns)\n",
        "cat_idx = [i for i, f in enumerate(ohe.get_feature_names_out(categorical_features)) if f in top_features]\n",
        "\n",
        "# Combine indices\n",
        "top_indices = numeric_idx + [len(numeric_features) + i for i in cat_idx]\n",
        "\n",
        "\n",
        "# Extract top features\n",
        "\n",
        "X_train_top = X_train[:, :, top_indices]\n",
        "X_test_top = X_test[:, :, top_indices]\n",
        "\n",
        "# Impute any remaining NaNs\n",
        "imputer = SimpleImputer(strategy=\"median\")\n",
        "X_train_top = imputer.fit_transform(X_train_top.reshape(len(X_train_top), -1))\n",
        "X_test_top = imputer.transform(X_test_top.reshape(len(X_test_top), -1))\n",
        "\n",
        "# Reshape back to sequences\n",
        "seq_len = X_train.shape[1]\n",
        "X_train_top = X_train_top.reshape(-1, seq_len, len(top_indices))\n",
        "X_test_top = X_test_top.reshape(-1, seq_len, len(top_indices))\n",
        "\n",
        "\n",
        "# Re-run SMOTE on training data\n",
        "\n",
        "y_train_int = np.argmax(y_train, axis=1)  # ensure integer labels\n",
        "\n",
        "# Define partial oversampling strategy (50% of majority)\n",
        "unique, counts = np.unique(y_train_int, return_counts=True)\n",
        "class_counts = dict(zip(unique, counts))\n",
        "majority_count = max(class_counts.values())\n",
        "sampling_strategy = {cls: int(0.5*majority_count) if count < 0.5*majority_count else count\n",
        "                     for cls, count in class_counts.items()}\n",
        "\n",
        "smote = SMOTE(sampling_strategy=sampling_strategy, random_state=42)\n",
        "X_train_res, y_train_res = smote.fit_resample(X_train_top.reshape(len(X_train_top), -1), y_train_int)\n",
        "\n",
        "# Reshape back to sequences\n",
        "X_train_res = X_train_res.reshape(-1, seq_len, len(top_indices))\n",
        "y_train_res_cat = to_categorical(y_train_res)\n",
        "\n",
        "print(\"Resampled class counts:\", np.bincount(y_train_res))\n",
        "\n",
        "\n",
        "# Build smaller CNN\n",
        "\n",
        "input_shape = (seq_len, len(top_indices))\n",
        "inputs = Input(shape=input_shape)\n",
        "x = Conv1D(32, kernel_size=3, activation='relu', padding='same')(inputs)\n",
        "x = BatchNormalization()(x)\n",
        "x = Conv1D(16, kernel_size=3, activation='relu', padding='same')(x)\n",
        "x = BatchNormalization()(x)\n",
        "x = Flatten()(x)\n",
        "x = Dense(32, activation='relu')(x)\n",
        "x = Dropout(0.3)(x)\n",
        "outputs = Dense(y_train_res_cat.shape[1], activation='softmax')(x)\n",
        "\n",
        "model_small = Model(inputs, outputs)\n",
        "model_small.compile(optimizer='adam', loss='categorical_crossentropy', metrics=['accuracy'])\n",
        "\n",
        "\n",
        "# Train model\n",
        "\n",
        "history = model_small.fit(\n",
        "    X_train_res, y_train_res_cat,\n",
        "    validation_data=(X_test_top, y_test),\n",
        "    epochs=20,\n",
        "    batch_size=32,\n",
        "    verbose=1\n",
        ")\n",
        "\n",
        "\n",
        "# Evaluate\n",
        "\n",
        "y_pred = np.argmax(model_small.predict(X_test_top), axis=1)\n",
        "y_true = np.argmax(y_test, axis=1)\n",
        "\n",
        "print(\"Classification Report:\")\n",
        "print(classification_report(y_true, y_pred, target_names=label_encoder.classes_))\n",
        "\n",
        "cm = confusion_matrix(y_true, y_pred)\n",
        "print(\"Confusion Matrix:\\n\", cm)"
      ],
      "metadata": {
        "id": "oyuKFpu6JlNQ"
      },
      "execution_count": null,
      "outputs": []
    },
    {
      "cell_type": "code",
      "source": [
        "model_small.save(\"cnn_top15_features.h5\")\n",
        "# Save preprocessing objects\n",
        "import joblib\n",
        "joblib.dump(imputer, \"imputer.pkl\")\n",
        "joblib.dump(scaler, \"scaler.pkl\")\n",
        "joblib.dump(ohe, \"ohe.pkl\")\n",
        "joblib.dump(label_encoder, \"label_encoder.pkl\")"
      ],
      "metadata": {
        "id": "64AMZsPKLTGA"
      },
      "execution_count": null,
      "outputs": []
    },
    {
      "cell_type": "code",
      "source": [
        "# Example: top_features are already selected\n",
        "top_features = [name for name, score in feat_importances[:20]]\n",
        "\n",
        "# Get their column indices\n",
        "top_feature_indices = [feature_names.index(f) for f in top_features]\n"
      ],
      "metadata": {
        "id": "oHgjivBYXk-C"
      },
      "execution_count": null,
      "outputs": []
    },
    {
      "cell_type": "code",
      "source": [
        "\n",
        "\n",
        "# Extract only the top features\n",
        "X_top_df = df_encoded[top_features]\n",
        "\n",
        "# Convert to numpy array\n",
        "X_top = X_top_df.to_numpy(dtype=np.float32)\n",
        "\n",
        "# If using sequences (e.g., LSTM/CNN), reshape to (num_samples, seq_len, num_features)\n",
        "# Here seq_len=1 if you don't have sequences\n",
        "X_top = X_top.reshape(len(X_top), 1, len(top_features))\n",
        "\n",
        "# Target\n",
        "y_top = y  # one-hot encoded target\n"
      ],
      "metadata": {
        "id": "6HiNL22WXmuT"
      },
      "execution_count": null,
      "outputs": []
    },
    {
      "cell_type": "code",
      "source": [
        "# Random 20% of Hostnames for validation\n",
        "hosts = df['Hostname'].unique()\n",
        "val_hosts = np.random.choice(hosts, size=int(0.2*len(hosts)), replace=False)\n",
        "\n",
        "train_idx = ~df['Hostname'].isin(val_hosts)\n",
        "val_idx = df['Hostname'].isin(val_hosts)\n",
        "\n",
        "X_train_top = X_top[train_idx]\n",
        "X_val_top = X_top[val_idx]\n",
        "y_train_top = y_top[train_idx]\n",
        "y_val_top = y_top[val_idx]\n"
      ],
      "metadata": {
        "id": "5z4NF7gGXyOK"
      },
      "execution_count": null,
      "outputs": []
    },
    {
      "cell_type": "code",
      "source": [
        "print(\"X_train_top:\", X_train_top.shape)\n",
        "print(\"X_val_top:\", X_val_top.shape)\n",
        "print(\"y_train_top:\", y_train_top.shape)\n",
        "print(\"y_val_top:\", y_val_top.shape)\n"
      ],
      "metadata": {
        "id": "sytFYe9xX0C6"
      },
      "execution_count": null,
      "outputs": []
    },
    {
      "cell_type": "code",
      "source": [
        "\n",
        "\n",
        "# Flatten to 2D\n",
        "X_train_flat = X_train_top.reshape(len(X_train_top), -1)\n",
        "\n",
        "# Impute NaNs using median\n",
        "imputer = SimpleImputer(strategy=\"median\")\n",
        "X_train_flat_imputed = imputer.fit_transform(X_train_flat)\n",
        "\n",
        "# Convert back to sequence shape\n",
        "X_train_top_imputed = X_train_flat_imputed.reshape(X_train_top.shape[0], X_train_top.shape[1], X_train_top.shape[2])\n"
      ],
      "metadata": {
        "id": "-Qkq_yhkX-hd"
      },
      "execution_count": null,
      "outputs": []
    },
    {
      "cell_type": "code",
      "source": [
        "\n",
        "\n",
        "# Convert y to integer labels\n",
        "y_train_int = np.argmax(y_train_top, axis=1)\n",
        "\n",
        "# Apply SMOTE\n",
        "smote = SMOTE(sampling_strategy='auto', random_state=42)\n",
        "X_res, y_res = smote.fit_resample(X_train_flat_imputed, y_train_int)\n",
        "\n",
        "# Reshape back to sequences\n",
        "X_train_res = X_res.reshape(-1, X_train_top.shape[1], X_train_top.shape[2])\n",
        "y_train_res_cat = to_categorical(y_res)\n",
        "\n",
        "print(\"Resampled class counts:\", np.bincount(y_res))\n"
      ],
      "metadata": {
        "id": "MnSg9oOAYAWY"
      },
      "execution_count": null,
      "outputs": []
    },
    {
      "cell_type": "code",
      "source": [
        "\n",
        "\n",
        "model = Sequential([\n",
        "    Conv1D(32, kernel_size=1, activation='relu', input_shape=(X_train_res.shape[1], X_train_res.shape[2])),\n",
        "    BatchNormalization(),\n",
        "    Conv1D(16, kernel_size=1, activation='relu'),\n",
        "    BatchNormalization(),\n",
        "    Flatten(),\n",
        "    Dense(32, activation='relu'),\n",
        "    Dropout(0.2),\n",
        "    Dense(4, activation='softmax')\n",
        "])\n",
        "\n",
        "model.compile(optimizer=Adam(0.001), loss='categorical_crossentropy', metrics=['accuracy'])\n"
      ],
      "metadata": {
        "id": "k1_DrohGYFFx"
      },
      "execution_count": null,
      "outputs": []
    },
    {
      "cell_type": "code",
      "source": [
        "# Flatten validation set\n",
        "X_val_flat = X_val_top.reshape(len(X_val_top), -1)\n",
        "\n",
        "# Impute missing values using the same median imputer fitted on training\n",
        "X_val_flat_imputed = imputer.transform(X_val_flat)\n",
        "\n",
        "# Clip extreme values (same as training)\n",
        "X_val_flat_imputed = np.clip(X_val_flat_imputed, -10, 10)\n",
        "\n",
        "# Reshape back to sequence shape\n",
        "X_val_top_imputed = X_val_flat_imputed.reshape(X_val_top.shape[0], X_val_top.shape[1], X_val_top.shape[2])\n"
      ],
      "metadata": {
        "id": "rbx8l2Y4Y__Y"
      },
      "execution_count": null,
      "outputs": []
    },
    {
      "cell_type": "code",
      "source": [
        "\n",
        "y_train_labels = np.argmax(y_train_top, axis=1)\n",
        "class_weights = compute_class_weight(\n",
        "    class_weight='balanced',\n",
        "    classes=np.unique(y_train_labels),\n",
        "    y=y_train_labels\n",
        ")\n",
        "class_weight_dict = dict(enumerate(class_weights))\n"
      ],
      "metadata": {
        "id": "rOPJDZYyZB-u"
      },
      "execution_count": null,
      "outputs": []
    },
    {
      "cell_type": "code",
      "source": [
        "\n",
        "# Flatten training set\n",
        "X_train_flat = X_train_res.reshape(len(X_train_res), -1)\n",
        "scaler = StandardScaler()\n",
        "X_train_flat_scaled = scaler.fit_transform(X_train_flat)\n",
        "X_train_scaled = X_train_flat_scaled.reshape(X_train_res.shape)\n",
        "\n",
        "# Flatten validation set and scale\n",
        "X_val_flat = X_val_top_imputed.reshape(len(X_val_top_imputed), -1)\n",
        "X_val_flat_scaled = scaler.transform(X_val_flat)\n",
        "X_val_scaled = X_val_flat_scaled.reshape(X_val_top_imputed.shape)\n"
      ],
      "metadata": {
        "id": "fOpXrKlRZEiS"
      },
      "execution_count": null,
      "outputs": []
    },
    {
      "cell_type": "code",
      "source": [
        "\n",
        "\n",
        "model = Sequential([\n",
        "    Conv1D(32, kernel_size=1, activation='relu', input_shape=(X_train_scaled.shape[1], X_train_scaled.shape[2])),\n",
        "    BatchNormalization(),\n",
        "    Conv1D(16, kernel_size=1, activation='relu'),\n",
        "    BatchNormalization(),\n",
        "    Flatten(),\n",
        "    Dense(32, activation='relu'),\n",
        "    Dropout(0.2),\n",
        "    Dense(4, activation='softmax')\n",
        "])\n",
        "\n",
        "model.compile(optimizer=Adam(0.001), loss='categorical_crossentropy', metrics=['accuracy'])\n",
        "\n",
        "history = model.fit(\n",
        "    X_train_scaled, y_train_res_cat,\n",
        "    validation_data=(X_val_scaled, y_val_top),\n",
        "    epochs=30,\n",
        "    batch_size=32,\n",
        "    class_weight=class_weight_dict\n",
        ")\n"
      ],
      "metadata": {
        "id": "xmv0a5VtZPi-"
      },
      "execution_count": null,
      "outputs": []
    },
    {
      "cell_type": "markdown",
      "source": [
        "//"
      ],
      "metadata": {
        "id": "M0EK238YbNAR"
      }
    },
    {
      "cell_type": "code",
      "source": [
        "\n",
        "\n",
        "df = pd.read_csv(\"/content/full_data_long.csv\")\n",
        "\n",
        "# Inspect\n",
        "print(df.head())\n",
        "print(df.info())\n",
        "print(df['operation'].value_counts())\n"
      ],
      "metadata": {
        "id": "7pnWdBexbNo_"
      },
      "execution_count": null,
      "outputs": []
    },
    {
      "cell_type": "code",
      "source": [
        "print(df.columns.tolist())\n"
      ],
      "metadata": {
        "id": "vAj931Y8bj-B"
      },
      "execution_count": null,
      "outputs": []
    },
    {
      "cell_type": "code",
      "source": [
        "# Numeric columns to impute and scale\n",
        "numeric_features = [\n",
        "    'total_logs',\n",
        "    'error_logs',\n",
        "    'warning_logs',\n",
        "    'info_logs',\n",
        "    'cpu_user_mean',\n",
        "    'cpu_user_max',\n",
        "    'mem_used_mean',\n",
        "    'mem_used_max',\n",
        "    'load1_mean',\n",
        "    'load5_mean',\n",
        "    'load15_mean',\n",
        "    'total_traces',\n",
        "    'missing_data'\n",
        "]\n",
        "\n",
        "# Categorical columns to one-hot encode\n",
        "categorical_features = [\n",
        "    'Hostname',\n",
        "    'user_id',\n",
        "    'program',\n",
        "    'pid'\n",
        "]\n"
      ],
      "metadata": {
        "id": "fYvgNvmzbuSZ"
      },
      "execution_count": null,
      "outputs": []
    },
    {
      "cell_type": "code",
      "source": [
        "\n",
        "\n",
        "preprocessor = ColumnTransformer(transformers=[\n",
        "    (\"num\", StandardScaler(), numeric_features),\n",
        "    (\"cat\", OneHotEncoder(handle_unknown='ignore'), categorical_features)\n",
        "])\n",
        "\n",
        "X = preprocessor.fit_transform(df)\n",
        "y = df['operation']  # target\n"
      ],
      "metadata": {
        "id": "vlD1JaTEbwTl"
      },
      "execution_count": null,
      "outputs": []
    },
    {
      "cell_type": "code",
      "source": [
        "\n",
        "\n",
        "label_encoder = LabelEncoder()\n",
        "y_int = label_encoder.fit_transform(y)  # integer labels\n",
        "y_cat = to_categorical(y_int)           # one-hot encoded for Keras\n"
      ],
      "metadata": {
        "id": "_CSttHQAcD8p"
      },
      "execution_count": null,
      "outputs": []
    },
    {
      "cell_type": "code",
      "source": [
        "# Convert to dense array (careful if your dataset is very large)\n",
        "X = X.toarray() if hasattr(X, \"toarray\") else X\n"
      ],
      "metadata": {
        "id": "W1WmS-60cGO-"
      },
      "execution_count": null,
      "outputs": []
    },
    {
      "cell_type": "code",
      "source": [
        "X_train, X_val = X[train_idx], X[val_idx]\n",
        "y_train, y_val = y_cat[train_idx], y_cat[val_idx]\n",
        "y_train_int = y_int[train_idx]\n"
      ],
      "metadata": {
        "id": "MgOVdwzacSfm"
      },
      "execution_count": null,
      "outputs": []
    },
    {
      "cell_type": "code",
      "source": [
        "\n",
        "class_weights = compute_class_weight(\n",
        "    class_weight='balanced',\n",
        "    classes=np.unique(y_train_int),\n",
        "    y=y_train_int\n",
        ")\n",
        "class_weight_dict = dict(enumerate(class_weights))\n",
        "print(\"Class weights:\", class_weight_dict)\n"
      ],
      "metadata": {
        "id": "dD5UTrv8caWf"
      },
      "execution_count": null,
      "outputs": []
    },
    {
      "cell_type": "code",
      "source": [
        "\n",
        "\n",
        "model = Sequential([\n",
        "    Dense(64, activation='relu', input_shape=(X_train.shape[1],)),\n",
        "    BatchNormalization(),\n",
        "    Dropout(0.3),\n",
        "    Dense(32, activation='relu'),\n",
        "    BatchNormalization(),\n",
        "    Dropout(0.3),\n",
        "    Dense(y_cat.shape[1], activation='softmax')\n",
        "])\n",
        "\n",
        "model.compile(optimizer='adam', loss='categorical_crossentropy', metrics=['accuracy'])\n"
      ],
      "metadata": {
        "id": "prNsPe5GciC8"
      },
      "execution_count": null,
      "outputs": []
    },
    {
      "cell_type": "code",
      "source": [
        "print(np.isnan(X_train).sum(), np.isinf(X_train).sum())\n",
        "print(np.isnan(X_val).sum(), np.isinf(X_val).sum())\n"
      ],
      "metadata": {
        "id": "di7SI_1Ac0oC"
      },
      "execution_count": null,
      "outputs": []
    },
    {
      "cell_type": "code",
      "source": [
        "\n",
        "optimizer = Adam(learning_rate=1e-4)  # lower than default 0.001\n",
        "model.compile(optimizer=optimizer, loss='categorical_crossentropy', metrics=['accuracy'])\n"
      ],
      "metadata": {
        "id": "CZ_Iz2o_dAHb"
      },
      "execution_count": null,
      "outputs": []
    },
    {
      "cell_type": "code",
      "source": [
        "print(np.min(X_train), np.max(X_train))\n"
      ],
      "metadata": {
        "id": "clS4E-AYdDAk"
      },
      "execution_count": null,
      "outputs": []
    },
    {
      "cell_type": "code",
      "source": [
        "\n",
        "\n",
        "# Flatten training and validation\n",
        "X_train_flat = X_train_top.reshape(len(X_train_top), -1)\n",
        "X_val_flat = X_val_top.reshape(len(X_val_top), -1)\n",
        "\n",
        "# Impute missing values using median\n",
        "imputer = SimpleImputer(strategy='median')\n",
        "X_train_flat_imputed = imputer.fit_transform(X_train_flat)\n",
        "X_val_flat_imputed = imputer.transform(X_val_flat)\n",
        "\n",
        "# Check\n",
        "print(np.isnan(X_train_flat_imputed).sum(), np.isnan(X_val_flat_imputed).sum())\n",
        "\n",
        "# Scale\n",
        "scaler = StandardScaler()\n",
        "X_train_scaled = scaler.fit_transform(X_train_flat_imputed)\n",
        "X_val_scaled = scaler.transform(X_val_flat_imputed)\n",
        "\n",
        "# Reshape back if using CNN / sequences\n",
        "X_train_scaled = X_train_scaled.reshape(len(X_train_top), 1, X_train_top.shape[2])\n",
        "X_val_scaled = X_val_scaled.reshape(len(X_val_top), 1, X_val_top.shape[2])\n"
      ],
      "metadata": {
        "id": "FnbwwemAdXBH"
      },
      "execution_count": null,
      "outputs": []
    },
    {
      "cell_type": "code",
      "source": [
        "\n",
        "\n",
        "# Integer labels\n",
        "label_encoder = LabelEncoder()\n",
        "y_int = label_encoder.fit_transform(y)  # shape (num_samples,)\n",
        "\n",
        "# One-hot labels\n",
        "y_cat = to_categorical(y_int)  # shape (num_samples, num_classes)\n"
      ],
      "metadata": {
        "id": "YQ55AF5-ckHv"
      },
      "execution_count": null,
      "outputs": []
    },
    {
      "cell_type": "code",
      "source": [
        "y_train = y_cat[train_idx]\n",
        "y_val = y_cat[val_idx]\n",
        "\n",
        "y_train_int = y_int[train_idx]  # needed for class weights\n"
      ],
      "metadata": {
        "id": "RaAukWtZdhLl"
      },
      "execution_count": null,
      "outputs": []
    },
    {
      "cell_type": "code",
      "source": [
        "\n",
        "\n",
        "class_weights = compute_class_weight(\n",
        "    class_weight='balanced',\n",
        "    classes=np.unique(y_train_int),\n",
        "    y=y_train_int\n",
        ")\n",
        "class_weight_dict = dict(enumerate(class_weights))\n",
        "print(\"Class weights:\", class_weight_dict)\n"
      ],
      "metadata": {
        "id": "VdNxNNHUdjRK"
      },
      "execution_count": null,
      "outputs": []
    },
    {
      "cell_type": "code",
      "source": [
        "\n",
        "\n",
        "model = Sequential([\n",
        "    Conv1D(32, kernel_size=1, activation='relu', input_shape=(1, X_train_scaled.shape[2])),\n",
        "    BatchNormalization(),\n",
        "    Conv1D(16, kernel_size=1, activation='relu'),\n",
        "    BatchNormalization(),\n",
        "    Flatten(),\n",
        "    Dense(32, activation='relu'),\n",
        "    Dropout(0.2),\n",
        "    Dense(y_cat.shape[1], activation='softmax')\n",
        "])\n",
        "\n",
        "model.compile(optimizer=Adam(0.001), loss='categorical_crossentropy', metrics=['accuracy'])\n"
      ],
      "metadata": {
        "id": "KAv5xD_XdjMP"
      },
      "execution_count": null,
      "outputs": []
    },
    {
      "cell_type": "markdown",
      "source": [
        "//"
      ],
      "metadata": {
        "id": "jfaOwUFseCUw"
      }
    },
    {
      "cell_type": "code",
      "source": [
        "\n",
        "\n",
        "# Load data\n",
        "df = pd.read_csv(\"/content/full_data_long.csv\")\n",
        "\n",
        "# Define features\n",
        "numeric_features = [\n",
        "    'total_logs', 'error_logs', 'warning_logs', 'info_logs',\n",
        "    'cpu_user_mean', 'cpu_user_max', 'mem_used_mean', 'mem_used_max',\n",
        "    'load1_mean', 'load5_mean', 'load15_mean', 'total_traces', 'pid'\n",
        "]\n",
        "\n",
        "categorical_features = [\n",
        "    'Hostname', 'user_id', 'program'\n",
        "]\n",
        "\n",
        "# Add missing_data column\n",
        "df['missing_data'] = df[numeric_features].isna().sum(axis=1)\n",
        "\n",
        "# Update numeric_features to include missing_data\n",
        "numeric_features.append('missing_data')\n",
        "\n",
        "# Target\n",
        "y = df['operation']\n",
        "\n",
        "# Encode target\n",
        "label_encoder = LabelEncoder()\n",
        "y_int = label_encoder.fit_transform(y)\n",
        "\n",
        "# One-hot encode target for Keras\n",
        "from tensorflow.keras.utils import to_categorical\n",
        "y_cat = to_categorical(y_int)\n",
        "\n",
        "# Preprocessor for features\n",
        "preprocessor = ColumnTransformer(transformers=[\n",
        "    (\"num\", StandardScaler(), numeric_features),\n",
        "    (\"cat\", OneHotEncoder(handle_unknown='ignore'), categorical_features)\n",
        "])\n",
        "\n",
        "# Fit and transform features\n",
        "X = preprocessor.fit_transform(df)\n",
        "\n",
        "# Convert to dense array if sparse\n",
        "if hasattr(X, \"toarray\"):\n",
        "    X = X.toarray()\n",
        "\n",
        "# Split by Hostname to avoid leakage\n",
        "hosts = df['Hostname'].unique()\n",
        "val_hosts = np.random.choice(hosts, size=int(0.2 * len(hosts)), replace=False)\n",
        "\n",
        "train_idx = ~df['Hostname'].isin(val_hosts)\n",
        "val_idx = df['Hostname'].isin(val_hosts)\n",
        "\n",
        "X_train = X[train_idx]\n",
        "X_val = X[val_idx]\n",
        "y_train = y_cat[train_idx]\n",
        "y_val = y_cat[val_idx]\n",
        "\n",
        "print(\"Shapes:\")\n",
        "print(\"X_train:\", X_train.shape, \"X_val:\", X_val.shape)\n",
        "print(\"y_train:\", y_train.shape, \"y_val:\", y_val.shape)\n",
        "\n",
        "# Check for NaNs / infs\n",
        "print(\"NaNs in X_train:\", np.isnan(X_train).sum())\n",
        "print(\"NaNs in X_val:\", np.isnan(X_val).sum())\n",
        "print(\"Infs in X_train:\", np.isinf(X_train).sum())\n",
        "print(\"Infs in X_val:\", np.isinf(X_val).sum())\n",
        "\n",
        "# Impute missing values if any (numeric columns)\n",
        "imputer = SimpleImputer(strategy=\"median\")\n",
        "X_train = imputer.fit_transform(X_train)\n",
        "X_val = imputer.transform(X_val)\n",
        "\n",
        "# Scale numeric features (optional, already scaled in ColumnTransformer, but safe)\n",
        "scaler = StandardScaler()\n",
        "X_train = scaler.fit_transform(X_train)\n",
        "X_val = scaler.transform(X_val)\n",
        "\n",
        "# Now X_train, X_val, y_train, y_val are clean and ready for modeling\n"
      ],
      "metadata": {
        "id": "5pdGgWVjeC91"
      },
      "execution_count": null,
      "outputs": []
    },
    {
      "cell_type": "code",
      "source": [
        "\n",
        "\n",
        "# Convert y_train back to integer labels\n",
        "y_train_int = np.argmax(y_train, axis=1)\n",
        "\n",
        "class_weights = compute_class_weight(\n",
        "    class_weight='balanced',\n",
        "    classes=np.unique(y_train_int),\n",
        "    y=y_train_int\n",
        ")\n",
        "class_weight_dict = dict(enumerate(class_weights))\n",
        "print(\"Class weights:\", class_weight_dict)\n"
      ],
      "metadata": {
        "id": "Svu0T1Cmeddt"
      },
      "execution_count": null,
      "outputs": []
    },
    {
      "cell_type": "code",
      "source": [
        "\n",
        "# Only on training set\n",
        "smote = SMOTE(sampling_strategy='auto', random_state=42)\n",
        "X_train_res, y_train_res_int = smote.fit_resample(X_train, y_train_int)\n",
        "\n",
        "# One-hot encode labels again for Keras\n",
        "from tensorflow.keras.utils import to_categorical\n",
        "y_train_res = to_categorical(y_train_res_int)\n"
      ],
      "metadata": {
        "id": "quOFLKcyeic7"
      },
      "execution_count": null,
      "outputs": []
    },
    {
      "cell_type": "code",
      "source": [
        "\n",
        "input_dim = X_train_res.shape[1]\n",
        "\n",
        "model = Sequential([\n",
        "    Dense(64, activation='relu', input_shape=(input_dim,)),\n",
        "    BatchNormalization(),\n",
        "    Dropout(0.3),\n",
        "    Dense(32, activation='relu'),\n",
        "    BatchNormalization(),\n",
        "    Dropout(0.2),\n",
        "    Dense(y_train_res.shape[1], activation='softmax')\n",
        "])\n",
        "\n",
        "model.compile(optimizer='adam', loss='categorical_crossentropy', metrics=['accuracy'])\n"
      ],
      "metadata": {
        "id": "KuJ0OjUIekuA"
      },
      "execution_count": null,
      "outputs": []
    },
    {
      "cell_type": "code",
      "source": [
        "X_processed_dense = X_processed.toarray()  # convert sparse to dense\n",
        "\n",
        "X_train = X_processed_dense[train_mask]\n",
        "X_val   = X_processed_dense[val_mask]\n",
        "\n",
        "y_train = y_onehot[train_mask]\n",
        "y_val   = y_onehot[val_mask]\n",
        "\n",
        "print(X_train.shape, y_train.shape)\n",
        "print(X_val.shape, y_val.shape)\n"
      ],
      "metadata": {
        "id": "w9b7IbT6fYDN"
      },
      "execution_count": null,
      "outputs": []
    },
    {
      "cell_type": "code",
      "source": [
        "# If X_processed is a Series, convert it\n",
        "X_processed = np.array(X_processed)\n"
      ],
      "metadata": {
        "id": "BfI_T6pEfdVd"
      },
      "execution_count": null,
      "outputs": []
    },
    {
      "cell_type": "code",
      "source": [
        "train_mask = ~df_clean['Hostname'].isin(val_hosts).to_numpy()\n",
        "val_mask   = df_clean['Hostname'].isin(val_hosts).to_numpy()\n"
      ],
      "metadata": {
        "id": "lNCDntvzfwcS"
      },
      "execution_count": null,
      "outputs": []
    },
    {
      "cell_type": "code",
      "source": [
        "\n",
        "\n",
        "# Load data\n",
        "df = pd.read_csv(\"/content/full_data_long.csv\")\n",
        "\n",
        "# Define features and target\n",
        "target_col = 'operation'\n",
        "categorical_features = ['user_id', 'program', 'pid']  # example, adjust as needed\n",
        "numeric_features = [c for c in df.columns if c not in categorical_features + [target_col, 'Hostname', 'bin_time']]\n",
        "\n",
        "# Clean any NaNs in numeric_features for sanity check\n",
        "df[numeric_features] = df[numeric_features].fillna(df[numeric_features].median())\n",
        "\n",
        "# Split by Hostname to avoid leakage\n",
        "hosts = df['Hostname'].unique()\n",
        "np.random.seed(42)\n",
        "np.random.shuffle(hosts)\n",
        "n_val = max(1, int(0.2 * len(hosts)))  # ensure at least 1 hostname\n",
        "val_hosts = hosts[:n_val]\n",
        "train_hosts = hosts[n_val:]\n",
        "\n",
        "train_mask = df['Hostname'].isin(train_hosts)\n",
        "val_mask   = df['Hostname'].isin(val_hosts)\n",
        "\n",
        "df_train = df[train_mask]\n",
        "df_val   = df[val_mask]\n",
        "\n",
        "print(\"Training samples:\", len(df_train))\n",
        "print(\"Validation samples:\", len(df_val))\n",
        "\n",
        "# Preprocessing: Impute numeric, encode categorical\n",
        "preprocessor = ColumnTransformer(transformers=[\n",
        "    ('num', SimpleImputer(strategy='median'), numeric_features),\n",
        "    ('cat', OneHotEncoder(handle_unknown='ignore', sparse_output=False), categorical_features)\n",
        "])\n",
        "\n",
        "# Fit on training, transform both train and validation\n",
        "X_train = preprocessor.fit_transform(df_train)\n",
        "X_val   = preprocessor.transform(df_val)\n",
        "\n",
        "# Scale numeric features (all columns after OneHotEncoder)\n",
        "scaler = StandardScaler()\n",
        "X_train = scaler.fit_transform(X_train)\n",
        "X_val   = scaler.transform(X_val)\n",
        "\n",
        "# Prepare target safely\n",
        "\n",
        "# Convert everything to string first\n",
        "y_train_labels = df_train[target_col].astype(str).values\n",
        "y_val_labels   = df_val[target_col].astype(str).values\n",
        "\n",
        "# Create integer encoding\n",
        "unique_labels = np.unique(y_train_labels)\n",
        "label_encoder = {label: i for i, label in enumerate(unique_labels)}\n",
        "\n",
        "y_train_int = np.array([label_encoder[l] for l in y_train_labels])\n",
        "y_val_int   = np.array([label_encoder[l] for l in y_val_labels])\n",
        "\n",
        "# One-hot encode\n",
        "y_train = to_categorical(y_train_int)\n",
        "y_val   = to_categorical(y_val_int)\n",
        "\n",
        "# Compute class weights\n",
        "class_weights_values = compute_class_weight(\n",
        "    class_weight='balanced',\n",
        "    classes=np.unique(y_train_int),\n",
        "    y=y_train_int\n",
        ")\n",
        "class_weight_dict = dict(enumerate(class_weights_values))\n",
        "print(\"Class weights:\", class_weight_dict)\n",
        "\n",
        "\n",
        "# Reshape for CNN if needed: (samples, 1, features)\n",
        "X_train = X_train.reshape(len(X_train), 1, X_train.shape[1])\n",
        "X_val   = X_val.reshape(len(X_val), 1, X_val.shape[1])\n",
        "\n",
        "print(\"X_train shape:\", X_train.shape)\n",
        "print(\"X_val shape:\", X_val.shape)\n",
        "print(\"y_train shape:\", y_train.shape)\n",
        "print(\"y_val shape:\", y_val.shape)\n"
      ],
      "metadata": {
        "id": "lVpcoH65g0JB"
      },
      "execution_count": null,
      "outputs": []
    },
    {
      "cell_type": "code",
      "source": [
        "\n",
        "\n",
        "num_features = X_train.shape[2]\n",
        "num_classes  = y_train.shape[1]\n",
        "\n",
        "model = Sequential([\n",
        "    Conv1D(32, kernel_size=1, activation='relu', input_shape=(1, num_features)),\n",
        "    BatchNormalization(),\n",
        "    Conv1D(16, kernel_size=1, activation='relu'),\n",
        "    BatchNormalization(),\n",
        "    Flatten(),\n",
        "    Dense(32, activation='relu'),\n",
        "    Dropout(0.2),\n",
        "    Dense(num_classes, activation='softmax')\n",
        "])\n",
        "\n",
        "model.compile(\n",
        "    optimizer=Adam(0.001),\n",
        "    loss='categorical_crossentropy',\n",
        "    metrics=['accuracy']\n",
        ")\n",
        "\n",
        "model.summary()\n"
      ],
      "metadata": {
        "id": "QX1QmUerhKC8"
      },
      "execution_count": null,
      "outputs": []
    },
    {
      "cell_type": "code",
      "source": [
        "num_classes = y_train.shape[1]  # <- 3 in your case\n",
        "\n",
        "model = Sequential([\n",
        "    Conv1D(32, kernel_size=1, activation='relu', input_shape=(1, X_train.shape[2])),\n",
        "    BatchNormalization(),\n",
        "    Conv1D(16, kernel_size=1, activation='relu'),\n",
        "    BatchNormalization(),\n",
        "    Flatten(),\n",
        "    Dense(32, activation='relu'),\n",
        "    Dropout(0.2),\n",
        "    Dense(num_classes, activation='softmax')  # <- match y_train\n",
        "])\n",
        "\n",
        "\n",
        "from tensorflow.keras.optimizers import Adam\n",
        "\n",
        "model.compile(\n",
        "    optimizer=Adam(0.001),\n",
        "    loss='categorical_crossentropy',\n",
        "    metrics=['accuracy']\n",
        ")\n",
        "\n",
        "\n"
      ],
      "metadata": {
        "id": "ju5eYfGghOBY"
      },
      "execution_count": null,
      "outputs": []
    },
    {
      "cell_type": "code",
      "source": [
        "\n",
        "# Combine all labels to find unique classes\n",
        "all_labels = np.unique(np.concatenate([y_train_labels, y_val_labels]))\n",
        "\n",
        "# Map labels to consecutive integers\n",
        "label_to_int = {label: i for i, label in enumerate(all_labels)}\n",
        "\n",
        "y_train_int = np.array([label_to_int[l] for l in y_train_labels])\n",
        "y_val_int   = np.array([label_to_int[l] for l in y_val_labels])\n",
        "\n",
        "# One-hot encode\n",
        "num_classes = len(all_labels)\n",
        "y_train = to_categorical(y_train_int, num_classes=num_classes)\n",
        "y_val   = to_categorical(y_val_int, num_classes=num_classes)\n",
        "\n",
        "print(\"num_classes:\", num_classes)\n",
        "print(\"y_train shape:\", y_train.shape)\n",
        "print(\"y_val shape:\", y_val.shape)\n"
      ],
      "metadata": {
        "id": "PFAcLnbriNz_"
      },
      "execution_count": null,
      "outputs": []
    },
    {
      "cell_type": "code",
      "source": [
        "model = Sequential([\n",
        "    Conv1D(32, kernel_size=1, activation='relu', input_shape=(1, X_train.shape[2])),\n",
        "    BatchNormalization(),\n",
        "    Conv1D(16, kernel_size=1, activation='relu'),\n",
        "    BatchNormalization(),\n",
        "    Flatten(),\n",
        "    Dense(32, activation='relu'),\n",
        "    Dropout(0.2),\n",
        "    Dense(num_classes, activation='softmax')  # now matches y_train\n",
        "])\n",
        "\n",
        "model.compile(optimizer=Adam(0.001), loss='categorical_crossentropy', metrics=['accuracy'])\n"
      ],
      "metadata": {
        "id": "glrBvERwiQSk"
      },
      "execution_count": null,
      "outputs": []
    },
    {
      "cell_type": "code",
      "source": [
        "history = model.fit(\n",
        "    X_train, y_train,\n",
        "    validation_data=(X_val, y_val),\n",
        "    epochs=30,\n",
        "    batch_size=32,\n",
        "    class_weight=class_weight_dict,  # optional, helps with class imbalance\n",
        "    verbose=2\n",
        ")\n"
      ],
      "metadata": {
        "id": "8pjovJHnif1H"
      },
      "execution_count": null,
      "outputs": []
    },
    {
      "cell_type": "code",
      "source": [
        "val_loss, val_acc = model.evaluate(X_val, y_val, verbose=0)\n",
        "print(f\"Validation accuracy: {val_acc:.4f}, loss: {val_loss:.4f}\")\n"
      ],
      "metadata": {
        "id": "P6gs2MK5mmxi"
      },
      "execution_count": null,
      "outputs": []
    },
    {
      "cell_type": "code",
      "source": [
        "y_pred_prob = model.predict(X_val)\n",
        "y_pred = np.argmax(y_pred_prob, axis=1)\n",
        "y_true = np.argmax(y_val, axis=1)\n"
      ],
      "metadata": {
        "id": "CUGqVxpPmqb3"
      },
      "execution_count": null,
      "outputs": []
    },
    {
      "cell_type": "code",
      "source": [
        "present_classes = np.unique(np.concatenate([y_true, y_pred]))\n",
        "print(classification_report(y_true, y_pred, labels=present_classes, target_names=[all_labels[i] for i in present_classes]))\n",
        "print(confusion_matrix(y_true, y_pred, labels=present_classes))\n"
      ],
      "metadata": {
        "id": "gVvbiVPYms33"
      },
      "execution_count": null,
      "outputs": []
    },
    {
      "cell_type": "code",
      "source": [
        "# Drop rows with missing target\n",
        "df = df.dropna(subset=[target_col])\n",
        "\n",
        "# Convert all target values to string (avoids mixed types)\n",
        "df[target_col] = df[target_col].astype(str)\n",
        "\n",
        "# Split train/validation by Hostname\n",
        "hosts = df['Hostname'].unique()\n",
        "np.random.seed(42)\n",
        "np.random.shuffle(hosts)\n",
        "n_val = max(1, int(0.2 * len(hosts)))\n",
        "val_hosts = hosts[:n_val]\n",
        "train_hosts = hosts[n_val:]\n",
        "\n",
        "train_mask = df['Hostname'].isin(train_hosts)\n",
        "val_mask   = df['Hostname'].isin(val_hosts)\n",
        "\n",
        "df_train = df[train_mask]\n",
        "df_val   = df[val_mask]\n",
        "\n",
        "# Extract target labels safely\n",
        "y_train_labels = df_train[target_col].values\n",
        "y_val_labels   = df_val[target_col].values\n",
        "\n",
        "# Map to integer IDs\n",
        "all_labels = np.unique(np.concatenate([y_train_labels, y_val_labels]))\n",
        "label_to_int = {label: i for i, label in enumerate(all_labels)}\n",
        "\n",
        "y_train_int = np.array([label_to_int[l] for l in y_train_labels])\n",
        "y_val_int   = np.array([label_to_int[l] for l in y_val_labels])\n",
        "\n",
        "# One-hot encode\n",
        "from tensorflow.keras.utils import to_categorical\n",
        "num_classes = len(all_labels)\n",
        "y_train = to_categorical(y_train_int, num_classes=num_classes)\n",
        "y_val   = to_categorical(y_val_int, num_classes=num_classes)\n",
        "\n",
        "print(\"All labels:\", all_labels)\n",
        "print(\"y_train shape:\", y_train.shape)\n",
        "print(\"y_val shape:\", y_val.shape)\n"
      ],
      "metadata": {
        "id": "k-CjiUofoRCJ"
      },
      "execution_count": null,
      "outputs": []
    },
    {
      "cell_type": "code",
      "source": [
        "\n",
        "\n",
        "# Define categorical and numeric features\n",
        "categorical_features = ['user_id', 'program', 'pid']  # adjust if needed\n",
        "numeric_features = [c for c in df.columns if c not in categorical_features + [target_col, 'Hostname', 'bin_time']]\n",
        "\n",
        "# Preprocessing pipeline\n",
        "preprocessor = ColumnTransformer(transformers=[\n",
        "    ('num', SimpleImputer(strategy='median'), numeric_features),\n",
        "    ('cat', OneHotEncoder(handle_unknown='ignore', sparse_output=False), categorical_features)\n",
        "])\n",
        "\n",
        "# Fit on train, transform train and val\n",
        "X_train = preprocessor.fit_transform(df_train)\n",
        "X_val   = preprocessor.transform(df_val)\n",
        "\n",
        "# Scale all features\n",
        "scaler = StandardScaler()\n",
        "X_train = scaler.fit_transform(X_train)\n",
        "X_val   = scaler.transform(X_val)\n",
        "\n",
        "# Reshape for CNN (samples, 1, features)\n",
        "X_train = X_train.reshape(len(X_train), 1, X_train.shape[1])\n",
        "X_val   = X_val.reshape(len(X_val), 1, X_val.shape[1])\n",
        "\n",
        "print(\"X_train shape:\", X_train.shape)\n",
        "print(\"X_val shape:\", X_val.shape)\n"
      ],
      "metadata": {
        "id": "W94TFopdoiH6"
      },
      "execution_count": null,
      "outputs": []
    },
    {
      "cell_type": "code",
      "source": [
        "\n",
        "\n",
        "y_train_labels_int = np.argmax(y_train, axis=1)\n",
        "class_weights_values = compute_class_weight(\n",
        "    class_weight='balanced',\n",
        "    classes=np.unique(y_train_labels_int),\n",
        "    y=y_train_labels_int\n",
        ")\n",
        "class_weight_dict = dict(enumerate(class_weights_values))\n",
        "print(\"Class weights:\", class_weight_dict)\n"
      ],
      "metadata": {
        "id": "5thBU0d9okRq"
      },
      "execution_count": null,
      "outputs": []
    },
    {
      "cell_type": "code",
      "source": [
        "\n",
        "\n",
        "num_classes = y_train.shape[1]\n",
        "\n",
        "model = Sequential([\n",
        "    Conv1D(32, kernel_size=1, activation='relu', input_shape=(1, X_train.shape[2])),\n",
        "    BatchNormalization(),\n",
        "    Conv1D(16, kernel_size=1, activation='relu'),\n",
        "    BatchNormalization(),\n",
        "    Flatten(),\n",
        "    Dense(32, activation='relu'),\n",
        "    Dropout(0.2),\n",
        "    Dense(num_classes, activation='softmax')\n",
        "])\n",
        "\n",
        "model.compile(optimizer=Adam(0.001), loss='categorical_crossentropy', metrics=['accuracy'])\n"
      ],
      "metadata": {
        "id": "62Mop5NGont_"
      },
      "execution_count": null,
      "outputs": []
    },
    {
      "cell_type": "code",
      "source": [
        "history = model.fit(\n",
        "    X_train, y_train,\n",
        "    validation_data=(X_val, y_val),\n",
        "    epochs=30,\n",
        "    batch_size=32,\n",
        "    class_weight=class_weight_dict,\n",
        "    verbose=2\n",
        ")\n"
      ],
      "metadata": {
        "id": "cmm7OaLJopyy"
      },
      "execution_count": null,
      "outputs": []
    }
  ],
  "metadata": {
    "colab": {
      "provenance": [],
      "authorship_tag": "ABX9TyM0c0uJdUG1xcCrfnwuwn0c",
      "include_colab_link": true
    },
    "kernelspec": {
      "display_name": "Python 3",
      "name": "python3"
    },
    "language_info": {
      "name": "python"
    }
  },
  "nbformat": 4,
  "nbformat_minor": 0
}